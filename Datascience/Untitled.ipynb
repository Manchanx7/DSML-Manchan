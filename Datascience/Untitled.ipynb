{
 "cells": [
  {
   "cell_type": "markdown",
   "id": "5245ebb9-4bf6-4328-ac51-6f4d8396b85f",
   "metadata": {},
   "source": [
    "# Element wise Operations"
   ]
  },
  {
   "cell_type": "code",
   "execution_count": 3,
   "id": "e2902e6c-375e-4267-b300-2b6c6128464c",
   "metadata": {},
   "outputs": [],
   "source": [
    "import numpy as np\n"
   ]
  },
  {
   "cell_type": "code",
   "execution_count": 6,
   "id": "c7cd9b9d-9b50-40fe-9405-3d929aa5db09",
   "metadata": {},
   "outputs": [],
   "source": [
    "a=np.array([[4,5,6],[5,7,9]])\n",
    "b=a=np.array([[5,2,3],[1,8,9]])"
   ]
  },
  {
   "cell_type": "code",
   "execution_count": 7,
   "id": "00bf0d5e-e9b7-46a4-8887-26645a79c6b1",
   "metadata": {},
   "outputs": [
    {
     "data": {
      "text/plain": [
       "(array([[5, 2, 3],\n",
       "        [1, 8, 9]]),\n",
       " array([[5, 2, 3],\n",
       "        [1, 8, 9]]))"
      ]
     },
     "execution_count": 7,
     "metadata": {},
     "output_type": "execute_result"
    }
   ],
   "source": [
    "a,b\n"
   ]
  },
  {
   "cell_type": "markdown",
   "id": "3b84edf2-4090-4a15-b45b-50bd74e9a71b",
   "metadata": {},
   "source": [
    "# Airthmetic Operations"
   ]
  },
  {
   "cell_type": "code",
   "execution_count": 8,
   "id": "8de4b8b9-f194-4527-8f09-443bb0c4c5cd",
   "metadata": {},
   "outputs": [
    {
     "data": {
      "text/plain": [
       "array([[10,  4,  6],\n",
       "       [ 2, 16, 18]])"
      ]
     },
     "execution_count": 8,
     "metadata": {},
     "output_type": "execute_result"
    }
   ],
   "source": [
    "np.add(a,b)"
   ]
  },
  {
   "cell_type": "code",
   "execution_count": 10,
   "id": "07ce2649-fdd7-4f73-8ead-b74cbf3f5cf2",
   "metadata": {},
   "outputs": [
    {
     "data": {
      "text/plain": [
       "array([[0, 0, 0],\n",
       "       [0, 0, 0]])"
      ]
     },
     "execution_count": 10,
     "metadata": {},
     "output_type": "execute_result"
    }
   ],
   "source": [
    "# a- b\n",
    "np.subtract(a,b)"
   ]
  },
  {
   "cell_type": "code",
   "execution_count": 11,
   "id": "9ef2327a-dbd0-4a76-b20e-d920e71af489",
   "metadata": {},
   "outputs": [
    {
     "data": {
      "text/plain": [
       "array([[25,  4,  9],\n",
       "       [ 1, 64, 81]])"
      ]
     },
     "execution_count": 11,
     "metadata": {},
     "output_type": "execute_result"
    }
   ],
   "source": [
    "np.power(a, 2)"
   ]
  },
  {
   "cell_type": "code",
   "execution_count": null,
   "id": "8a7e611b-81cc-4e9d-ae00-2c35a7d9cf88",
   "metadata": {},
   "outputs": [],
   "source": []
  },
  {
   "cell_type": "code",
   "execution_count": null,
   "id": "11842b1e-82ca-408e-8419-fbb07381a1dc",
   "metadata": {},
   "outputs": [],
   "source": []
  }
 ],
 "metadata": {
  "kernelspec": {
   "display_name": "Python 3 (ipykernel)",
   "language": "python",
   "name": "python3"
  },
  "language_info": {
   "codemirror_mode": {
    "name": "ipython",
    "version": 3
   },
   "file_extension": ".py",
   "mimetype": "text/x-python",
   "name": "python",
   "nbconvert_exporter": "python",
   "pygments_lexer": "ipython3",
   "version": "3.13.5"
  }
 },
 "nbformat": 4,
 "nbformat_minor": 5
}
