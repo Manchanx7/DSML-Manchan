{
 "cells": [
  {
   "cell_type": "markdown",
   "metadata": {},
   "source": [
    "### Question : Check for Palindrome\n",
    "Write a Python program using a lambda function to check if a given string is a palindrome.\n",
    "\n",
    "Example:\n",
    "\n",
    "Input: `\"level\"`\n",
    "\n",
    "Output: `True`"
   ]
  },
  {
   "cell_type": "code",
   "execution_count": 1,
   "metadata": {},
   "outputs": [
    {
     "name": "stdout",
     "output_type": "stream",
     "text": [
      "True\n"
     ]
    }
   ],
   "source": [
    "is_palindrome = lambda s: s == s[::-1]\n",
    "\n",
    "input_str = \"level\"\n",
    "print(is_palindrome(input_str))  \n",
    "\n"
   ]
  },
  {
   "cell_type": "markdown",
   "metadata": {},
   "source": [
    "### Question: \n",
    "Write a Python program to check whether a given number is an Armstrong number or not.\n",
    "\n",
    "**Definition:**\n",
    "An **Armstrong number** (also known as a **narcissistic number**) is a number that is equal to the sum of its own digits each raised to the power of the number of digits. For example:\n",
    "- 153 is an Armstrong number because \\( 1^3 + 5^3 + 3^3 = 153 \\).\n",
    "- 9474 is an Armstrong number because \\( 9^4 + 4^4 + 7^4 + 4^4 = 9474 \\).\n",
    "\n",
    "**Input:**  \n",
    "An integer (e.g., 153).\n",
    "\n",
    "**Output:**  \n",
    "Output \"Yes, it's an Armstrong number.\" if the number is an Armstrong number. Otherwise, output \"No, it's not an Armstrong number.\"\n",
    "\n",
    "**Constraints:**  \n",
    "- The input should be a positive integer.  \n"
   ]
  },
  {
   "cell_type": "code",
   "execution_count": null,
   "metadata": {},
   "outputs": [],
   "source": [
    "# Your Solution Here\n"
   ]
  },
  {
   "cell_type": "markdown",
   "metadata": {},
   "source": [
    "### Control Flow with Nested Loops and Complex Logic\n",
    "\n",
    "Write a Python program that simulates a **number guessing game**:\n",
    "\n",
    "1. The program should generate a random number between 1 and 100 and give the user 7 attempts to guess it.\n",
    "\n",
    "2. After each wrong guess, the program should provide a hint whether the guess was too high or too low.\n",
    "\n",
    "3. If the user fails to guess the number within the attempts, the program should reveal the number and ask if they would like to play again."
   ]
  },
  {
   "cell_type": "code",
   "execution_count": null,
   "metadata": {},
   "outputs": [],
   "source": [
    "# Your Solution Here\n"
   ]
  },
  {
   "cell_type": "markdown",
   "metadata": {},
   "source": [
    "\n",
    "### Write a Python program that iterates through integers from 1 to 50. For each multiple of three, print \"Fizz\" instead of the number; for each multiple of five, print \"Buzz\". For numbers that are multiples of both three and five, print \"FizzBuzz\".\n",
    "\n",
    "The FizzBuzz problem is a common coding challenge that is often used in programming interviews to test basic programming skills. The problem typically requires writing a function that prints numbers from 1 to a given limit, but with a twist:\n",
    "\n",
    "- For multiples of 3, print \"Fizz\" instead of the number.\n",
    "- For multiples of 5, print \"Buzz\" instead of the number.\n",
    "- For numbers which are multiples of both 3 and 5, print \"FizzBuzz\".\n",
    "\n",
    "\n"
   ]
  },
  {
   "cell_type": "code",
   "execution_count": null,
   "metadata": {},
   "outputs": [],
   "source": [
    "# Your Solution Here\n"
   ]
  },
  {
   "cell_type": "markdown",
   "metadata": {},
   "source": [
    "### Scenario:\n",
    "\n",
    "You are tasked with designing a system for a **vehicle rental company**. The company rents out various types of vehicles like **Cars** and **Bikes**, and each vehicle has some shared characteristics but also some distinct ones. \n",
    "\n",
    "### Requirements:\n",
    "1. Each **Vehicle** has attributes such as:\n",
    "   - `vehicle_id`: A unique identifier for the vehicle.\n",
    "   - `brand`: The brand of the vehicle.\n",
    "   - `rental_price`: Price per day to rent the vehicle.\n",
    "\n",
    "2. Both **Car** and **Bike** are types of **Vehicles**.  \n",
    "   - A **Car** has an additional attribute: `number_of_doors`.  \n",
    "   - A **Bike** has an additional attribute: `bike_type` (e.g., mountain bike, racing bike).\n",
    "\n",
    "3. You should provide methods to:\n",
    "   - **Calculate total rental cost**: Given the number of rental days, calculate the total cost for any vehicle.\n",
    "   - **Display vehicle details**: For both cars and bikes, display details including the unique attributes (e.g., `number_of_doors` for cars, `bike_type` for bikes).\n",
    "\n",
    "4. Implement the following OOP concepts:\n",
    "   - **Abstraction**: Provide a clean interface for calculating the total rental cost and displaying vehicle details, hiding the internal logic.\n",
    "   - **Inheritance**: Both **Car** and **Bike** should inherit common functionality from the **Vehicle** class.\n",
    "   - **Polymorphism**: Use method overriding so that the method for displaying vehicle details works differently for cars and bikes.\n",
    "\n",
    "---\n",
    "\n",
    "### Task:\n",
    "\n",
    "1. **Define a `Vehicle` base class** that implements the common attributes and methods.\n",
    "2. **Define two subclasses `Car` and `Bike`** that inherit from `Vehicle` and implement their specific attributes.\n",
    "3. Use encapsulation by making attributes private and providing public methods to interact with them.\n",
    "4. Use polymorphism to create a `display_details` method that behaves differently for `Car` and `Bike`.\n"
   ]
  },
  {
   "cell_type": "code",
   "execution_count": null,
   "metadata": {},
   "outputs": [],
   "source": [
    "# Your Solution Here"
   ]
  },
  {
   "cell_type": "code",
   "execution_count": null,
   "metadata": {},
   "outputs": [],
   "source": []
  }
 ],
 "metadata": {
  "kernelspec": {
   "display_name": "Python 3 (ipykernel)",
   "language": "python",
   "name": "python3"
  },
  "language_info": {
   "codemirror_mode": {
    "name": "ipython",
    "version": 3
   },
   "file_extension": ".py",
   "mimetype": "text/x-python",
   "name": "python",
   "nbconvert_exporter": "python",
   "pygments_lexer": "ipython3",
   "version": "3.13.5"
  }
 },
 "nbformat": 4,
 "nbformat_minor": 4
}
