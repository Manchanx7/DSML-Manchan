{
 "cells": [
  {
   "cell_type": "code",
   "execution_count": null,
   "id": "7339801e-c455-4dcc-a409-06edf6c490aa",
   "metadata": {},
   "outputs": [],
   "source": []
  }
 ],
 "metadata": {
  "kernelspec": {
   "display_name": "",
   "name": ""
  },
  "language_info": {
   "name": ""
  }
 },
 "nbformat": 4,
 "nbformat_minor": 5
}
