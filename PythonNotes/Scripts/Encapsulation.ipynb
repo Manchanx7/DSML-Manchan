{
 "cells": [
  {
   "cell_type": "markdown",
   "id": "1da7e3ad-5420-4aed-a799-8871b1a26f63",
   "metadata": {},
   "source": [
    "# Encapsulation"
   ]
  },
  {
   "cell_type": "markdown",
   "id": "9710b26c-f94d-4074-b363-42ae6d8bcda1",
   "metadata": {},
   "source": [
    "## Encapsulation is the concept of hiding the internal details of an object and only exposing a controlled interface to the outside world.\n",
    "\n",
    "## It protects the data from being directly accessed or modified by using private variables and public methods (getters/setters)."
   ]
  },
  {
   "cell_type": "markdown",
   "id": "fb2e8f18-ed8f-4a1d-baf1-54d461111b10",
   "metadata": {},
   "source": [
    "### 1.Public\n",
    "Definition: Members (variables or methods) declared public can be accessed from anywhere — inside the class, subclasses, and outside the class.\n",
    "\n",
    "### 2.Protected\n",
    "Definition: Members declared protected can be accessed within the class and by its subclasses, but are generally not accessible from outside the class.\n",
    "\n",
    "### 3.Private\n",
    "Definition: Members declared private can be accessed only within the class itself and not from subclasses or outside the class.\n"
   ]
  },
  {
   "cell_type": "code",
   "execution_count": 26,
   "id": "53a3fb48-b2f4-4290-828c-3be7b8b4a555",
   "metadata": {},
   "outputs": [],
   "source": [
    "class Example:\n",
    "    def __init__(self):\n",
    "        self.public_var = 1\n",
    "        self.__private_var = 2\n",
    "        self._protected_var = 3\n",
    "\n",
    "    def public_method(self):\n",
    "        print(self.__private_var)\n",
    "        print(\"This is public\")\n",
    "\n",
    "    def __private_method(self):\n",
    "        print(\"This is private\")\n",
    "\n",
    "    def _protected_method(self):\n",
    "        print(\"This is protected method\")\n"
   ]
  },
  {
   "cell_type": "code",
   "execution_count": 11,
   "id": "dbb44192-1b97-4dee-be49-0c53fbe74040",
   "metadata": {},
   "outputs": [],
   "source": [
    "eg = Example()"
   ]
  },
  {
   "cell_type": "code",
   "execution_count": 12,
   "id": "f34327ff-d7d8-4f7f-89e4-f282798bbf9a",
   "metadata": {},
   "outputs": [
    {
     "data": {
      "text/plain": [
       "1"
      ]
     },
     "execution_count": 12,
     "metadata": {},
     "output_type": "execute_result"
    }
   ],
   "source": [
    "eg.public_var\n"
   ]
  },
  {
   "cell_type": "code",
   "execution_count": 15,
   "id": "63da4f28-40c8-4813-9e55-4e8f9e7b09c7",
   "metadata": {},
   "outputs": [
    {
     "data": {
      "text/plain": [
       "3"
      ]
     },
     "execution_count": 15,
     "metadata": {},
     "output_type": "execute_result"
    }
   ],
   "source": [
    "eg._protected_var"
   ]
  },
  {
   "cell_type": "code",
   "execution_count": 16,
   "id": "69cbb412-5170-4a1f-adbc-c252f13c0a5b",
   "metadata": {},
   "outputs": [
    {
     "ename": "AttributeError",
     "evalue": "'Example' object has no attribute '__private_var'",
     "output_type": "error",
     "traceback": [
      "\u001b[31m---------------------------------------------------------------------------\u001b[39m",
      "\u001b[31mAttributeError\u001b[39m                            Traceback (most recent call last)",
      "\u001b[36mCell\u001b[39m\u001b[36m \u001b[39m\u001b[32mIn[16]\u001b[39m\u001b[32m, line 1\u001b[39m\n\u001b[32m----> \u001b[39m\u001b[32m1\u001b[39m \u001b[43meg\u001b[49m\u001b[43m.\u001b[49m\u001b[43m__private_var\u001b[49m\n",
      "\u001b[31mAttributeError\u001b[39m: 'Example' object has no attribute '__private_var'"
     ]
    }
   ],
   "source": [
    "eg.__private_var"
   ]
  },
  {
   "cell_type": "markdown",
   "id": "6fc75611-11d0-4dea-a1fd-39f53ae35f5b",
   "metadata": {},
   "source": [
    "## In this example public var and public_method are public members that can be acessed from annywhere.protected are protected members that can be    acessesed within the class and subclass.Private cannot be acessed."
   ]
  },
  {
   "cell_type": "code",
   "execution_count": 17,
   "id": "f7145aee-2cf8-42c4-9930-639c3ff773aa",
   "metadata": {},
   "outputs": [],
   "source": [
    "class subclass(Example):\n",
    "    def get_public_member(self):\n",
    "        print(self.public_var)\n",
    "    def get_protected_member(self):\n",
    "        print(self.protected_var)\n",
    "    def get__private_member(self): \n",
    "        print(self.__private_member)"
   ]
  },
  {
   "cell_type": "code",
   "execution_count": 19,
   "id": "b9b1db13-f757-4384-b5aa-73098a917d1c",
   "metadata": {},
   "outputs": [],
   "source": [
    "obj = subclass()"
   ]
  },
  {
   "cell_type": "code",
   "execution_count": 22,
   "id": "c44f31c5-aa6a-4a54-a658-097e8382d0b0",
   "metadata": {},
   "outputs": [
    {
     "name": "stdout",
     "output_type": "stream",
     "text": [
      "1\n"
     ]
    }
   ],
   "source": [
    "obj.get_public_member()"
   ]
  },
  {
   "cell_type": "code",
   "execution_count": 25,
   "id": "e4dfccb1-58e3-47b5-bf02-6739f58dbfea",
   "metadata": {},
   "outputs": [
    {
     "ename": "AttributeError",
     "evalue": "'subclass' object has no attribute 'protected_var'",
     "output_type": "error",
     "traceback": [
      "\u001b[31m---------------------------------------------------------------------------\u001b[39m",
      "\u001b[31mAttributeError\u001b[39m                            Traceback (most recent call last)",
      "\u001b[36mCell\u001b[39m\u001b[36m \u001b[39m\u001b[32mIn[25]\u001b[39m\u001b[32m, line 1\u001b[39m\n\u001b[32m----> \u001b[39m\u001b[32m1\u001b[39m \u001b[43mobj\u001b[49m\u001b[43m.\u001b[49m\u001b[43mget_protected_member\u001b[49m\u001b[43m(\u001b[49m\u001b[43m)\u001b[49m\n",
      "\u001b[36mCell\u001b[39m\u001b[36m \u001b[39m\u001b[32mIn[17]\u001b[39m\u001b[32m, line 5\u001b[39m, in \u001b[36msubclass.get_protected_member\u001b[39m\u001b[34m(self)\u001b[39m\n\u001b[32m      4\u001b[39m \u001b[38;5;28;01mdef\u001b[39;00m\u001b[38;5;250m \u001b[39m\u001b[34mget_protected_member\u001b[39m(\u001b[38;5;28mself\u001b[39m):\n\u001b[32m----> \u001b[39m\u001b[32m5\u001b[39m     \u001b[38;5;28mprint\u001b[39m(\u001b[38;5;28;43mself\u001b[39;49m\u001b[43m.\u001b[49m\u001b[43mprotected_var\u001b[49m)\n",
      "\u001b[31mAttributeError\u001b[39m: 'subclass' object has no attribute 'protected_var'"
     ]
    }
   ],
   "source": [
    "obj.get_protected_member()"
   ]
  },
  {
   "cell_type": "code",
   "execution_count": 27,
   "id": "5f3c486d-4e8b-4b3e-9fe0-8e7eae445f13",
   "metadata": {},
   "outputs": [
    {
     "data": {
      "text/plain": [
       "<bound method subclass.get_public_member of <__main__.subclass object at 0x00000132C9A897F0>>"
      ]
     },
     "execution_count": 27,
     "metadata": {},
     "output_type": "execute_result"
    }
   ],
   "source": [
    "obj.get_public_member"
   ]
  },
  {
   "cell_type": "code",
   "execution_count": 35,
   "id": "accffdcd-bca8-442a-b7af-0f30f956f9f1",
   "metadata": {},
   "outputs": [],
   "source": [
    "\n",
    "class BankAccount:\n",
    "    def __init__(self, name, balance):\n",
    "        self.name = name\n",
    "        self.__balance = balance  \n",
    "\n",
    "    def deposit(self, amount):\n",
    "        if amount > 0:\n",
    "            self.__balance += amount\n",
    "            print(f\"Deposited {amount}. New balance: {self.__balance}\")\n",
    "        else:\n",
    "            print(\"The Deposit amount must be positive.\")\n",
    "\n",
    "    def withdraw(self, amount):\n",
    "        if amount > self.__balance:\n",
    "            print(\"Balance not enough. Withdrawal is denied.\")\n",
    "        elif amount <= 0:\n",
    "            print(\"Withdrawal amount must be positive.\")\n",
    "        else:\n",
    "            self.__balance -= amount\n",
    "            print(f\"Withdraw {amount}. New balance: {self.__balance}\")\n",
    "\n",
    "    def check_balance(self):\n",
    "        print(f\"Current balance: {self.__balance}\")\n",
    "        return self.__balance\n",
    "\n",
    "\n",
    "class SavingsAccount(BankAccount):\n",
    "    def __init__(self, name, balance, interest_rate):\n",
    "        super().__init__(name, balance)\n",
    "        self.interest_rate = 5\n",
    "\n",
    "    def apply_interest(self):\n",
    "        interest = self._BankAccount__balance * self.interest_rate\n",
    "        self.check_balance += interest\n",
    "        print(f\"Interest of {interest} applied. New balance: {self._BankAccount__balance}\")\n",
    "\n",
    "\n",
    "\n"
   ]
  },
  {
   "cell_type": "code",
   "execution_count": 34,
   "id": "e109e7b5-e1b6-4ca5-acd8-ebbfc393d56a",
   "metadata": {},
   "outputs": [
    {
     "name": "stdout",
     "output_type": "stream",
     "text": [
      "Current balance: 999999999\n",
      "Deposited 700. New balance: 1000000699\n",
      "Withdraw 500. New balance: 1000000199\n",
      "Interest of 5000000995 applied. New balance: 6000001194\n",
      "Current balance: 6000001194\n"
     ]
    },
    {
     "data": {
      "text/plain": [
       "6000001194"
      ]
     },
     "execution_count": 34,
     "metadata": {},
     "output_type": "execute_result"
    }
   ],
   "source": [
    "acc = SavingsAccount(\"Manchan\",999999999, 5)\n",
    "acc.check_balance()\n",
    "acc.deposit(700)\n",
    "acc.withdraw(500)\n",
    "acc.apply_interest()\n",
    "acc.check_balance()\n"
   ]
  },
  {
   "cell_type": "code",
   "execution_count": 36,
   "id": "84fbcc03-17e0-4fd7-afce-0504605e39b2",
   "metadata": {},
   "outputs": [
    {
     "name": "stdout",
     "output_type": "stream",
     "text": [
      "Deposited 50000. New balance: 6000051194\n"
     ]
    }
   ],
   "source": [
    "acc.deposit(50000)"
   ]
  },
  {
   "cell_type": "code",
   "execution_count": null,
   "id": "0d70952d-8ebd-4d89-b606-4d3dece3270a",
   "metadata": {},
   "outputs": [],
   "source": []
  }
 ],
 "metadata": {
  "kernelspec": {
   "display_name": "Python 3 (ipykernel)",
   "language": "python",
   "name": "python3"
  },
  "language_info": {
   "codemirror_mode": {
    "name": "ipython",
    "version": 3
   },
   "file_extension": ".py",
   "mimetype": "text/x-python",
   "name": "python",
   "nbconvert_exporter": "python",
   "pygments_lexer": "ipython3",
   "version": "3.13.5"
  }
 },
 "nbformat": 4,
 "nbformat_minor": 5
}
