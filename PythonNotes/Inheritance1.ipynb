{
 "cells": [
  {
   "cell_type": "markdown",
   "id": "d178eb37-12b2-4b18-b8b5-8a653f7c2750",
   "metadata": {},
   "source": [
    "# Inheritance code\n",
    "## Q.Designing a simple hierarchy of employees in a company.\n",
    " \n",
    " \n",
    "### - The Person class stores basic details like name and age.\n",
    " \n",
    "### - The Employee class inherits from Person and adds an employee ID.\n",
    " \n",
    "### - The Manager class inherits from Employee and adds a department.\n",
    " \n",
    "### Write these classes and implement a method get_details() in the Manager class that returns a string with name, age, employee ID, and department.\n",
    " \n",
    "\n",
    " "
   ]
  },
  {
   "cell_type": "code",
   "execution_count": null,
   "id": "7fb2d02c-f6ae-4bbd-b8b3-2d804592eec7",
   "metadata": {},
   "outputs": [],
   "source": [
    "class Person:\n",
    "    def __init__(self, name, age):\n",
    "        self.name = name\n",
    "        self.age = age\n",
    "\n",
    "class Employee(Person):\n",
    "    def __init__(self, name, age, employee_id):\n",
    "        Person.__init__(self, name, age)\n",
    "        self.employee_id = employee_id\n",
    "\n",
    "class Manager(Employee):\n",
    "    def __init__(self, name, age, employee_id, department):\n",
    "        Employee.__init__(self, name, age, employee_id)\n",
    "        self.department = department\n",
    "\n",
    "    def get_details(self):\n",
    "        return f\"Name: {self.name}, Age: {self.age}, ID: {self.employee_id}, Department: {self.department}\"\n",
    "\n",
    "manager1 = Manager(\"Manchan\", 17, \"E123\", \"IT\")\n",
    "print(manager1.get_details())\n"
   ]
  },
  {
   "cell_type": "markdown",
   "id": "d38083f7-82a0-4e38-8b22-e7eb67d3aaa0",
   "metadata": {},
   "source": [
    "#Inheritance\n",
    "\n",
    "## Inheritance is a fundamental concept in Object-Oriented Programming (OOP) where a class (called a child class or subclass) can inherit properties and behaviors (methods) from another class (called a parent class or superclass).\n",
    "\n",
    "## This helps in:\n",
    "\n",
    "Code reuse (you don’t have to write the same code again),\n",
    "\n",
    "Organizing code,\n",
    "\n",
    "Creating relationships between classes."
   ]
  },
  {
   "cell_type": "code",
   "execution_count": 1,
   "id": "ed7d81c4-db8c-4d9d-8add-3278e4e01b46",
   "metadata": {},
   "outputs": [
    {
     "name": "stdout",
     "output_type": "stream",
     "text": [
      "This is the parent class\n",
      "This is the child class\n"
     ]
    }
   ],
   "source": [
    "class Parent:\n",
    "    def show(self):\n",
    "        print(\"This is the parent class\")\n",
    "\n",
    "class Child(Parent):\n",
    "    def display(self):\n",
    "        print(\"This is the child class\")\n",
    "\n",
    "obj = Child()\n",
    "obj.show()    # Inherited method\n",
    "obj.display() # Own method\n"
   ]
  },
  {
   "cell_type": "markdown",
   "id": "5c75d423-9f95-4aa3-96b2-0c8580e337ce",
   "metadata": {},
   "source": [
    "# 1.Single Inheritance\n",
    "\n",
    "One child class inherits from one parent class.\n",
    "\n"
   ]
  },
  {
   "cell_type": "code",
   "execution_count": 2,
   "id": "d13e7002-e117-4dce-92f4-88d3e2e36622",
   "metadata": {},
   "outputs": [],
   "source": [
    "class A:\n",
    "    pass\n",
    "\n",
    "class B(A):\n",
    "    pass\n"
   ]
  },
  {
   "cell_type": "markdown",
   "id": "ac611cb0-cdd0-4790-858e-72faa7cd0cf2",
   "metadata": {},
   "source": [
    "# 2.Multiple Inheritance\n",
    "\n",
    "One child class inherits from multiple parent classes."
   ]
  },
  {
   "cell_type": "code",
   "execution_count": 3,
   "id": "9cea1853-0477-4a91-82eb-87e001d8197c",
   "metadata": {},
   "outputs": [],
   "source": [
    "class A:\n",
    "    pass\n",
    "\n",
    "class B:\n",
    "    pass\n",
    "\n",
    "class C(A, B):\n",
    "    pass\n"
   ]
  },
  {
   "cell_type": "markdown",
   "id": "abe9db49-6bde-43d1-a952-a5f68a731fbd",
   "metadata": {},
   "source": [
    "# 3.Multilevel Inheritance\n",
    "\n",
    "A child class inherits from a class, and then another class inherits from that child."
   ]
  },
  {
   "cell_type": "code",
   "execution_count": 4,
   "id": "6ad3c25d-eab3-4d6d-bc0f-535abd70b491",
   "metadata": {},
   "outputs": [],
   "source": [
    "class A:\n",
    "    pass\n",
    "\n",
    "class B(A):\n",
    "    pass\n",
    "\n",
    "class C(B):\n",
    "    pass\n",
    "\n"
   ]
  },
  {
   "cell_type": "markdown",
   "id": "ca5a27cf-f854-42bc-bafb-8b4c58a6f14a",
   "metadata": {},
   "source": [
    "# 4. Hierarchical Inheritance\n",
    "\n",
    "Multiple child classes inherit from a single parent class."
   ]
  },
  {
   "cell_type": "code",
   "execution_count": 7,
   "id": "d47c35a5-c9a4-4bf2-9a8f-f438403196cf",
   "metadata": {},
   "outputs": [],
   "source": [
    "class A:\n",
    "    pass\n",
    "\n",
    "class B(A):\n",
    "    pass\n",
    "\n",
    "class C(A):\n",
    "    pass\n"
   ]
  },
  {
   "cell_type": "markdown",
   "id": "a1597917-11e1-4bbd-8db9-a48206d1f7e2",
   "metadata": {},
   "source": [
    "# 5.Hybrid Inheritance\n",
    "\n",
    "A combination of two or more types of inheritance.\n",
    "\n",
    "Python handles this using Method Resolution Order (MRO)"
   ]
  },
  {
   "cell_type": "code",
   "execution_count": 8,
   "id": "d0469698-5f2d-4d99-b980-2ea5e8f29237",
   "metadata": {},
   "outputs": [],
   "source": [
    "class A:\n",
    "    pass\n",
    "\n",
    "class B(A):\n",
    "    pass\n",
    "\n",
    "class C:\n",
    "    pass\n",
    "\n",
    "class D(B, C):\n",
    "    pass\n"
   ]
  },
  {
   "cell_type": "code",
   "execution_count": null,
   "id": "2f28d56c-2bfd-44cf-9c6e-c42b23ac9106",
   "metadata": {},
   "outputs": [],
   "source": []
  }
 ],
 "metadata": {
  "kernelspec": {
   "display_name": "Python 3 (ipykernel)",
   "language": "python",
   "name": "python3"
  },
  "language_info": {
   "codemirror_mode": {
    "name": "ipython",
    "version": 3
   },
   "file_extension": ".py",
   "mimetype": "text/x-python",
   "name": "python",
   "nbconvert_exporter": "python",
   "pygments_lexer": "ipython3",
   "version": "3.13.5"
  }
 },
 "nbformat": 4,
 "nbformat_minor": 5
}
