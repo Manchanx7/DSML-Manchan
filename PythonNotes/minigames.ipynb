{
 "cells": [
  {
   "cell_type": "markdown",
   "id": "8ab87164-beb1-4247-af3c-c4a6f2a11cb3",
   "metadata": {},
   "source": [
    "# Coin Flip Game"
   ]
  },
  {
   "cell_type": "code",
   "execution_count": 1,
   "id": "ec605007-4d10-4943-b4cc-751f344130dc",
   "metadata": {},
   "outputs": [
    {
     "name": "stdout",
     "output_type": "stream",
     "text": [
      "Tails\n"
     ]
    }
   ],
   "source": [
    "import random\n",
    "\n",
    "num = random.randint(0, 1)   \n",
    "\n",
    "if num > 0.5:\n",
    "  print('Heads')\n",
    "else:\n",
    "  print('Tails')\n"
   ]
  },
  {
   "cell_type": "markdown",
   "id": "85a598e6-db49-4878-8515-f60cd03681e8",
   "metadata": {},
   "source": [
    "# Currency exchange"
   ]
  },
  {
   "cell_type": "code",
   "execution_count": 3,
   "id": "55e44c44-412e-4187-883f-fe54f57acce4",
   "metadata": {},
   "outputs": [
    {
     "name": "stdin",
     "output_type": "stream",
     "text": [
      "what do you have left in pesos?: 8000\n",
      "what do you have left in soles?: 90000\n",
      "what do you have left in reais?: 8726\n"
     ]
    },
    {
     "name": "stdout",
     "output_type": "stream",
     "text": [
      "you have 26772.680000000004 left in usd\n"
     ]
    }
   ],
   "source": [
    "pesos=int(input(\"what do you have left in pesos?:\"))\n",
    "usd=pesos*0.00025\n",
    "soles=int(input(\"what do you have left in soles?:\"))\n",
    "usd1=soles*0.28\n",
    "reais=int(input(\"what do you have left in reais?:\"))\n",
    "usd2=reais*0.18\n",
    "total=usd+usd1+usd2\n",
    "print(\"you have\",total,\"left in usd\")\n"
   ]
  },
  {
   "cell_type": "markdown",
   "id": "d731ed48-9876-4011-9be7-e66c14fb9ce7",
   "metadata": {},
   "source": [
    "# finding hypotenuse of a triangle"
   ]
  },
  {
   "cell_type": "code",
   "execution_count": 4,
   "id": "00d18b10-9b5c-48ae-8eee-e711f218d891",
   "metadata": {},
   "outputs": [
    {
     "name": "stdin",
     "output_type": "stream",
     "text": [
      "Enter the perpendicular of triangle: 8\n",
      "Enter the base of triangle: 5\n"
     ]
    },
    {
     "name": "stdout",
     "output_type": "stream",
     "text": [
      "The hypotenuse of triangle is: 9.433981132056603\n"
     ]
    }
   ],
   "source": [
    "\n",
    "Perpendicular=int(input(\"Enter the perpendicular of triangle:\"))\n",
    "base=int(input(\"Enter the base of triangle:\"))\n",
    "hypotenuse=(Perpendicular**2+base**2)**0.5\n",
    "print(\"The hypotenuse of triangle is:\",hypotenuse)\n"
   ]
  },
  {
   "cell_type": "markdown",
   "id": "0179b068-e620-4f5c-8624-649eb09d2107",
   "metadata": {},
   "source": [
    "# BMI index"
   ]
  },
  {
   "cell_type": "code",
   "execution_count": 5,
   "id": "e6f6d5ea-0076-4aa6-98f6-1c365cbbe44c",
   "metadata": {},
   "outputs": [
    {
     "name": "stdout",
     "output_type": "stream",
     "text": [
      "Your BMI is: 1.7241379310344827\n"
     ]
    }
   ],
   "source": [
    "\n",
    "Bodyweight=58\n",
    "height=5.8\n",
    "BMI=Bodyweight/height**2\n",
    "print(\"Your BMI is:\",BMI)\n"
   ]
  },
  {
   "cell_type": "markdown",
   "id": "5130bba4-23ba-44be-8e58-ae65a737ffac",
   "metadata": {},
   "source": [
    "# Converting farenheit into degree"
   ]
  },
  {
   "cell_type": "code",
   "execution_count": 7,
   "id": "c4861cc3-93f0-455d-bb70-96a25219830d",
   "metadata": {},
   "outputs": [
    {
     "name": "stdout",
     "output_type": "stream",
     "text": [
      "Degree in celsisus is: 26.666666666666664\n"
     ]
    }
   ],
   "source": [
    "Farenheit=80\n",
    "degree=(Farenheit-32)/1.8\n",
    "print(\"Degree in celsisus is:\", degree)"
   ]
  },
  {
   "cell_type": "markdown",
   "id": "a595a1ad-de01-4b5f-87e2-bae43a8ebeae",
   "metadata": {},
   "source": [
    "# ph level"
   ]
  },
  {
   "cell_type": "code",
   "execution_count": 8,
   "id": "56bfe019-a964-493d-8e87-f818986b7cc6",
   "metadata": {},
   "outputs": [
    {
     "name": "stdin",
     "output_type": "stream",
     "text": [
      "Enter a value: 5\n"
     ]
    },
    {
     "name": "stdout",
     "output_type": "stream",
     "text": [
      "It is acidic\n"
     ]
    }
   ],
   "source": [
    "ph=int(input(\"Enter a value:\"))\n",
    "if ph >7:\n",
    "  print(\"it is basic\")\n",
    "elif ph < 7:\n",
    "    print(\"It is acidic\")\n",
    "else :\n",
    "     print(\"It is neutral\")\n"
   ]
  },
  {
   "cell_type": "markdown",
   "id": "beded621-6ea8-449f-86b5-15f67910a191",
   "metadata": {},
   "source": [
    "# Magic 8 Ball"
   ]
  },
  {
   "cell_type": "code",
   "execution_count": 9,
   "id": "9c1e25d4-473d-4dfc-8b23-449c51ab1851",
   "metadata": {},
   "outputs": [
    {
     "name": "stdin",
     "output_type": "stream",
     "text": [
      "Question:  Can i hack skillshikshya server?\n"
     ]
    },
    {
     "name": "stdout",
     "output_type": "stream",
     "text": [
      "Without a doubt.\n"
     ]
    }
   ],
   "source": [
    "import random\n",
    "\n",
    "question = input(\"Question: \")\n",
    "random_number = random.randint(1, 9)\n",
    "\n",
    "if random_number == 1:\n",
    "    print(\"Yes - definitely\")\n",
    "elif random_number == 2:\n",
    "    print(\"Outlook not so good\")\n",
    "elif random_number == 3:\n",
    "    print(\"My sources say no.\")\n",
    "elif random_number == 4:\n",
    "    print(\"Better not tell you now\")\n",
    "elif random_number == 5:\n",
    "    print(\"Ask again later.\")\n",
    "elif random_number == 6:\n",
    "    print(\"Reply hazy, try again\")\n",
    "elif random_number == 7:\n",
    "    print(\"Without a doubt.\")\n",
    "elif random_number == 8:\n",
    "    print(\"It is decidedly so\")\n",
    "else:\n",
    "    print(\"Very doubtful\")\n"
   ]
  },
  {
   "cell_type": "markdown",
   "id": "e5ec92a8-15f5-4015-a888-a3ba1f66bb72",
   "metadata": {},
   "source": [
    "# Cyclone rollercoster"
   ]
  },
  {
   "cell_type": "code",
   "execution_count": 10,
   "id": "3869860d-808d-490f-9f20-ddddec1a7211",
   "metadata": {},
   "outputs": [
    {
     "name": "stdin",
     "output_type": "stream",
     "text": [
      "Enter your height in cm:  180\n",
      "Enter the number of credits you have:  15\n"
     ]
    },
    {
     "name": "stdout",
     "output_type": "stream",
     "text": [
      "Enjoy the ride!\n"
     ]
    }
   ],
   "source": [
    "height = int(input(\"Enter your height in cm: \"))\n",
    "credits = int(input(\"Enter the number of credits you have: \"))\n",
    "\n",
    "required_height = 137\n",
    "required_credits = 10\n",
    "\n",
    "if height >= required_height and credits >= required_credits:\n",
    "    print(\"Enjoy the ride!\")\n",
    "elif credits >= required_credits and height < required_height:\n",
    "    print(\"You are not tall enough to ride.\")\n",
    "elif height >= required_height and credits < required_credits:\n",
    "    print(\"You don't have enough credits.\")\n",
    "else:\n",
    "    print(\"You have not met the height and credit requirements.\")\n"
   ]
  },
  {
   "cell_type": "code",
   "execution_count": null,
   "id": "6722dfe2-e5ff-49eb-8660-1ed605e92230",
   "metadata": {},
   "outputs": [],
   "source": []
  }
 ],
 "metadata": {
  "kernelspec": {
   "display_name": "Python 3 (ipykernel)",
   "language": "python",
   "name": "python3"
  },
  "language_info": {
   "codemirror_mode": {
    "name": "ipython",
    "version": 3
   },
   "file_extension": ".py",
   "mimetype": "text/x-python",
   "name": "python",
   "nbconvert_exporter": "python",
   "pygments_lexer": "ipython3",
   "version": "3.13.5"
  }
 },
 "nbformat": 4,
 "nbformat_minor": 5
}
