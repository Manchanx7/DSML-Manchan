{
 "cells": [
  {
   "cell_type": "markdown",
   "id": "414f57e3-499f-4844-bb15-c73cefd9195e",
   "metadata": {},
   "source": [
    "# Property decorator\n",
    "In Python, a property decorator (@property) is used to define a method that behaves like an attribute. It allows you to customize how a class attribute is accessed, without having to call it like a method. This is useful for encapsulation — hiding internal data while still providing a clean interface."
   ]
  },
  {
   "cell_type": "markdown",
   "id": "4fa8e297-0acc-4d96-a3ea-26649a16898d",
   "metadata": {},
   "source": [
    "## Why use @property?\n",
    "You can make a method look like an attribute.\n",
    "\n",
    "It allows you to add logic when getting, setting, or deleting a value.\n",
    "\n",
    "You can control access to attributes (like making them read-only or validating input).\n",
    "\n"
   ]
  },
  {
   "cell_type": "code",
   "execution_count": 16,
   "id": "f317fd04-2037-4ee8-8fd6-936f812884b7",
   "metadata": {},
   "outputs": [],
   "source": [
    "class Person:\n",
    "    def __init__(self, name):\n",
    "        self.__name = name\n",
    "    @property\n",
    "    def name(self):\n",
    "        print(\"Getting name\")\n",
    "        return self.__name\n"
   ]
  },
  {
   "cell_type": "code",
   "execution_count": 17,
   "id": "adfc6ef9-0ce6-45f7-9d77-1980b75ab2ec",
   "metadata": {},
   "outputs": [],
   "source": [
    "person=Person(\"han solo\")\n"
   ]
  },
  {
   "cell_type": "code",
   "execution_count": 18,
   "id": "0231db19-acdf-41e1-864c-687b17b3019e",
   "metadata": {},
   "outputs": [
    {
     "name": "stdout",
     "output_type": "stream",
     "text": [
      "Getting name\n"
     ]
    },
    {
     "data": {
      "text/plain": [
       "'han solo'"
      ]
     },
     "execution_count": 18,
     "metadata": {},
     "output_type": "execute_result"
    }
   ],
   "source": [
    "person.name"
   ]
  },
  {
   "cell_type": "markdown",
   "id": "a94f02e2-d8a2-4ba0-81dd-1c626ba12053",
   "metadata": {},
   "source": [
    "# Setter\n"
   ]
  },
  {
   "cell_type": "code",
   "execution_count": 20,
   "id": "56a9cb6a-86a9-40d2-bec5-86ab53e53201",
   "metadata": {},
   "outputs": [],
   "source": [
    "class Person:\n",
    "    def __init__(self, name):\n",
    "        self.__name = name\n",
    "    @property\n",
    "    def name(self):\n",
    "        print(\"Getting name\")\n",
    "        return self.__name\n",
    "\n",
    "    @name.setter    \n",
    "    def name(self, value):\n",
    "        print(\"Setting name\")\n",
    "        self.__name=value\n",
    "        "
   ]
  },
  {
   "cell_type": "code",
   "execution_count": 21,
   "id": "f9c3d553-b009-45aa-a464-757deb55e2dd",
   "metadata": {},
   "outputs": [],
   "source": [
    "person=Person(\"Manchan\")"
   ]
  },
  {
   "cell_type": "code",
   "execution_count": 22,
   "id": "14b2d432-cf86-4c82-adc0-a22a1b323193",
   "metadata": {},
   "outputs": [
    {
     "name": "stdout",
     "output_type": "stream",
     "text": [
      "Getting name\n"
     ]
    },
    {
     "data": {
      "text/plain": [
       "'Manchan'"
      ]
     },
     "execution_count": 22,
     "metadata": {},
     "output_type": "execute_result"
    }
   ],
   "source": [
    "person.name"
   ]
  },
  {
   "cell_type": "code",
   "execution_count": 23,
   "id": "071a4bc3-53cb-4524-bd73-3b1f9dc7abba",
   "metadata": {},
   "outputs": [
    {
     "name": "stdout",
     "output_type": "stream",
     "text": [
      "Setting name\n"
     ]
    }
   ],
   "source": [
    "person.name=\"Hari\""
   ]
  },
  {
   "cell_type": "code",
   "execution_count": 24,
   "id": "cb38caaa-3c16-459c-87fa-126a564d5749",
   "metadata": {},
   "outputs": [
    {
     "name": "stdout",
     "output_type": "stream",
     "text": [
      "Getting name\n"
     ]
    },
    {
     "data": {
      "text/plain": [
       "'Hari'"
      ]
     },
     "execution_count": 24,
     "metadata": {},
     "output_type": "execute_result"
    }
   ],
   "source": [
    "person.name"
   ]
  },
  {
   "cell_type": "markdown",
   "id": "a149be10-324e-4c55-bbe6-ca4b804640de",
   "metadata": {},
   "source": [
    "# Deleter"
   ]
  },
  {
   "cell_type": "code",
   "execution_count": 27,
   "id": "51e28187-98b5-4c19-a146-ac156e03fc45",
   "metadata": {},
   "outputs": [],
   "source": [
    "class Person:\n",
    "    def __init__(self, name):\n",
    "        self.__name = name\n",
    "    @property\n",
    "    def name(self):\n",
    "        print(\"Getting name\")\n",
    "        return self.__name\n",
    "\n",
    "    @name.setter    \n",
    "    def name(self, value):\n",
    "        print(\"Setting name\")\n",
    "        self.__name=value\n",
    "    @name.deleter\n",
    "    def name(self):\n",
    "        print(\"Deleting Name\")\n",
    "        del self.__name"
   ]
  },
  {
   "cell_type": "code",
   "execution_count": 29,
   "id": "e13538d8-bcc1-4b77-aec4-21c93b008469",
   "metadata": {},
   "outputs": [],
   "source": [
    "person=Person(\"Roman\")"
   ]
  },
  {
   "cell_type": "code",
   "execution_count": 30,
   "id": "0778cbf2-26fd-40d4-8e78-6d5ee950a964",
   "metadata": {},
   "outputs": [
    {
     "name": "stdout",
     "output_type": "stream",
     "text": [
      "Getting name\n"
     ]
    },
    {
     "data": {
      "text/plain": [
       "'Roman'"
      ]
     },
     "execution_count": 30,
     "metadata": {},
     "output_type": "execute_result"
    }
   ],
   "source": [
    "person.name"
   ]
  },
  {
   "cell_type": "code",
   "execution_count": 31,
   "id": "da741d13-a290-4e11-98e4-9435a7b3f6ac",
   "metadata": {},
   "outputs": [
    {
     "name": "stdout",
     "output_type": "stream",
     "text": [
      "Deleting Name\n"
     ]
    }
   ],
   "source": [
    "del person.name"
   ]
  },
  {
   "cell_type": "code",
   "execution_count": 32,
   "id": "77ec7236-97d2-4807-81d3-0c84b5cf6f48",
   "metadata": {},
   "outputs": [
    {
     "name": "stdout",
     "output_type": "stream",
     "text": [
      "Getting name\n"
     ]
    },
    {
     "ename": "AttributeError",
     "evalue": "'Person' object has no attribute '_Person__name'",
     "output_type": "error",
     "traceback": [
      "\u001b[31m---------------------------------------------------------------------------\u001b[39m",
      "\u001b[31mAttributeError\u001b[39m                            Traceback (most recent call last)",
      "\u001b[36mCell\u001b[39m\u001b[36m \u001b[39m\u001b[32mIn[32]\u001b[39m\u001b[32m, line 1\u001b[39m\n\u001b[32m----> \u001b[39m\u001b[32m1\u001b[39m \u001b[43mperson\u001b[49m\u001b[43m.\u001b[49m\u001b[43mname\u001b[49m\n",
      "\u001b[36mCell\u001b[39m\u001b[36m \u001b[39m\u001b[32mIn[27]\u001b[39m\u001b[32m, line 7\u001b[39m, in \u001b[36mPerson.name\u001b[39m\u001b[34m(self)\u001b[39m\n\u001b[32m      4\u001b[39m \u001b[38;5;129m@property\u001b[39m\n\u001b[32m      5\u001b[39m \u001b[38;5;28;01mdef\u001b[39;00m\u001b[38;5;250m \u001b[39m\u001b[34mname\u001b[39m(\u001b[38;5;28mself\u001b[39m):\n\u001b[32m      6\u001b[39m     \u001b[38;5;28mprint\u001b[39m(\u001b[33m\"\u001b[39m\u001b[33mGetting name\u001b[39m\u001b[33m\"\u001b[39m)\n\u001b[32m----> \u001b[39m\u001b[32m7\u001b[39m     \u001b[38;5;28;01mreturn\u001b[39;00m \u001b[38;5;28;43mself\u001b[39;49m\u001b[43m.\u001b[49m\u001b[43m__name\u001b[49m\n",
      "\u001b[31mAttributeError\u001b[39m: 'Person' object has no attribute '_Person__name'"
     ]
    }
   ],
   "source": [
    "person.name"
   ]
  },
  {
   "cell_type": "markdown",
   "id": "1bfa42dc-9cce-4cee-834a-6395273576ff",
   "metadata": {},
   "source": [
    "# Time"
   ]
  },
  {
   "cell_type": "code",
   "execution_count": 37,
   "id": "f5b6b930-fe41-4365-af8a-5b77004ebe1b",
   "metadata": {},
   "outputs": [
    {
     "name": "stdout",
     "output_type": "stream",
     "text": [
      "Time taken: 3.00 seconds\n"
     ]
    }
   ],
   "source": [
    "import time\n",
    "\n",
    "def timeit(func):\n",
    "    def wrapper():\n",
    "        start = time.time()\n",
    "        func()\n",
    "        end = time.time()\n",
    "        print(f\"Time taken: {end - start:.2f} seconds\")\n",
    "    return wrapper\n",
    "\n",
    "@timeit\n",
    "def takes_time():\n",
    "    time.sleep(3)\n",
    "takes_time()\n"
   ]
  },
  {
   "cell_type": "code",
   "execution_count": null,
   "id": "8f3a9543-da16-4c67-b346-54e6275745ac",
   "metadata": {},
   "outputs": [],
   "source": []
  }
 ],
 "metadata": {
  "kernelspec": {
   "display_name": "Python 3 (ipykernel)",
   "language": "python",
   "name": "python3"
  },
  "language_info": {
   "codemirror_mode": {
    "name": "ipython",
    "version": 3
   },
   "file_extension": ".py",
   "mimetype": "text/x-python",
   "name": "python",
   "nbconvert_exporter": "python",
   "pygments_lexer": "ipython3",
   "version": "3.13.5"
  }
 },
 "nbformat": 4,
 "nbformat_minor": 5
}
