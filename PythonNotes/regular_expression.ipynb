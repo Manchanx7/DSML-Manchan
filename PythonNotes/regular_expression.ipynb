{
 "cells": [
  {
   "cell_type": "markdown",
   "id": "21b0e55a-82be-4419-9951-a704fe844188",
   "metadata": {},
   "source": [
    "# Regular expression in python"
   ]
  },
  {
   "cell_type": "markdown",
   "id": "27805954-279a-412d-b8d6-0b506a6086b1",
   "metadata": {},
   "source": [
    "## **Regular Expressions in Python** are special sequences of characters used to search, match, or manipulate text based on specific patterns. Python provides the `re` module to work with regex. Common functions include `re.search()` to find a match, `re.findall()` to return all matches, and `re.sub()` to replace text. Special symbols like `\\d` (digit), `\\w` (word character), `.` (any character), `*` (zero or more), and `^` (start of string) help define patterns. Regular expressions are powerful tools for tasks like validating emails, splitting text, or scraping data from websites.\n"
   ]
  },
  {
   "cell_type": "code",
   "execution_count": 3,
   "id": "b77332ec-90ef-4b02-8727-d8732d62e9df",
   "metadata": {},
   "outputs": [],
   "source": [
    "import re\n",
    "string =\"The quick brown fox jumps over a cat.\"\n",
    "pattern =r\"he\"\n",
    "\n",
    "match=re.search(pattern, string)"
   ]
  },
  {
   "cell_type": "code",
   "execution_count": 5,
   "id": "c6eff7f8-9501-4b25-a639-7fb70f4510e8",
   "metadata": {},
   "outputs": [
    {
     "data": {
      "text/plain": [
       "'he'"
      ]
     },
     "execution_count": 5,
     "metadata": {},
     "output_type": "execute_result"
    }
   ],
   "source": [
    "match.group()"
   ]
  },
  {
   "cell_type": "code",
   "execution_count": 7,
   "id": "129a7a09-6e57-4918-b381-fb90fada98d7",
   "metadata": {},
   "outputs": [
    {
     "data": {
      "text/plain": [
       "1"
      ]
     },
     "execution_count": 7,
     "metadata": {},
     "output_type": "execute_result"
    }
   ],
   "source": [
    "match.start()"
   ]
  },
  {
   "cell_type": "code",
   "execution_count": 12,
   "id": "44d20586-9bc5-4aff-a663-a83bd2d9455a",
   "metadata": {},
   "outputs": [
    {
     "data": {
      "text/plain": [
       "'he'"
      ]
     },
     "execution_count": 12,
     "metadata": {},
     "output_type": "execute_result"
    }
   ],
   "source": [
    "string[match.start():match.end()]\n"
   ]
  },
  {
   "cell_type": "code",
   "execution_count": 14,
   "id": "552c504c-2e85-43ba-bbd2-317e13432077",
   "metadata": {},
   "outputs": [
    {
     "name": "stdout",
     "output_type": "stream",
     "text": [
      "Match object: <re.Match object; span=(1, 3), match='he'>\n",
      "Match group: he\n",
      "Match start: 1\n"
     ]
    }
   ],
   "source": [
    "if match:\n",
    "    print(\"Match object:\", match)\n",
    "    print(\"Match group:\", match.group())\n",
    "    print(\"Match start:\", match.start())"
   ]
  },
  {
   "cell_type": "markdown",
   "id": "7235bb26-102c-4082-94cc-221c7fb3087f",
   "metadata": {},
   "source": [
    "## 2.re.findall(pattern,string)"
   ]
  },
  {
   "cell_type": "markdown",
   "id": "f569a258-ee66-448c-ba65-a055352ed037",
   "metadata": {},
   "source": [
    "# re.findall() is a function from Python’s re module that returns all non-overlapping matches of a pattern in a string as a list. It scans the entire string and collects every substring that matches the given regular expression. If there are no matches, it returns an empty list. This method is useful for extracting multiple occurrences like words, digits, or specific formats (e.g., emails). Unlike re.search(), which returns only the first match, re.findall() captures all of them.\n"
   ]
  },
  {
   "cell_type": "markdown",
   "id": "04306ae9-8771-47c1-ae75-6b2ab36b70e2",
   "metadata": {},
   "source": [
    "# 3.re.sub() is a function in Python’s re module used to replace all matches of a pattern in a string with a replacement text. It’s commonly used for cleaning or modifying text. The basic syntax is re.sub(pattern, replacement, string). You can also specify the number of replacements using an optional fourth argument. It returns a new string with the replacements made. If no match is found, the original string is returned unchanged. This function is very useful in data cleaning, like removing symbols or formatting strings.\n"
   ]
  },
  {
   "cell_type": "code",
   "execution_count": 17,
   "id": "a7995a10-5d6c-4ca7-9ab4-174701f38079",
   "metadata": {},
   "outputs": [],
   "source": [
    "string =\"The quick brown fox jumps over a cat.\"\n",
    "pattern =r\"[A-Z]he\"\n",
    "repl=\"the\"\n",
    "match=re.sub(pattern, string,repl, count=1)"
   ]
  },
  {
   "cell_type": "code",
   "execution_count": 18,
   "id": "36134a0d-f7ab-4dd6-a983-4299797ae12a",
   "metadata": {},
   "outputs": [
    {
     "data": {
      "text/plain": [
       "'the'"
      ]
     },
     "execution_count": 18,
     "metadata": {},
     "output_type": "execute_result"
    }
   ],
   "source": [
    "match"
   ]
  },
  {
   "cell_type": "markdown",
   "id": "20fca86c-d604-4352-bb10-bebabb5f3ae1",
   "metadata": {},
   "source": [
    "# 4. re.split"
   ]
  },
  {
   "cell_type": "markdown",
   "id": "f022cf92-3739-4999-b4c3-ea05606239b8",
   "metadata": {},
   "source": [
    "## re.split() is a function in Python’s re module that splits a string by a regular expression pattern. Unlike str.split() which splits by exact characters (like spaces or commas), re.split() allows splitting using more flexible patterns like digits, spaces, or symbols.\n",
    "\n"
   ]
  },
  {
   "cell_type": "code",
   "execution_count": 27,
   "id": "3fdf5d90-5b7e-44a0-9760-52d277ab0374",
   "metadata": {},
   "outputs": [],
   "source": [
    "string =\"The quick brown fox jumps over a  40 m cat.\"\n",
    "pattern =r\"[0-9]+\"\n",
    "\n",
    "segment =re.split(pattern,string)"
   ]
  },
  {
   "cell_type": "code",
   "execution_count": 29,
   "id": "dcc84245-e45a-4d60-8071-3875ce98336d",
   "metadata": {},
   "outputs": [
    {
     "data": {
      "text/plain": [
       "['The quick brown fox jumps over a  ', ' m cat.']"
      ]
     },
     "execution_count": 29,
     "metadata": {},
     "output_type": "execute_result"
    }
   ],
   "source": [
    "segment"
   ]
  },
  {
   "cell_type": "code",
   "execution_count": null,
   "id": "712d97d4-3355-4ec5-88ba-35023c21fa58",
   "metadata": {},
   "outputs": [],
   "source": []
  }
 ],
 "metadata": {
  "kernelspec": {
   "display_name": "Python 3 (ipykernel)",
   "language": "python",
   "name": "python3"
  },
  "language_info": {
   "codemirror_mode": {
    "name": "ipython",
    "version": 3
   },
   "file_extension": ".py",
   "mimetype": "text/x-python",
   "name": "python",
   "nbconvert_exporter": "python",
   "pygments_lexer": "ipython3",
   "version": "3.13.5"
  }
 },
 "nbformat": 4,
 "nbformat_minor": 5
}
