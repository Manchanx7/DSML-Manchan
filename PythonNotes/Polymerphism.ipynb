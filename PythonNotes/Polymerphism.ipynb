{
 "cells": [
  {
   "cell_type": "markdown",
   "id": "7622669f-fec9-4852-97d2-e77af407e7c1",
   "metadata": {},
   "source": [
    "# Polymerphism"
   ]
  },
  {
   "cell_type": "markdown",
   "id": "79ee946f-3aeb-492c-a7b1-55d68a6c3b5f",
   "metadata": {},
   "source": [
    "## Polymorphism in Python means the same function or method name can have different behaviors depending on the object or context it is acting upon."
   ]
  },
  {
   "cell_type": "markdown",
   "id": "4fa86fe6-ee50-47c4-8739-5d5a2393ef10",
   "metadata": {},
   "source": [
    "### 1.. Method Overriding (Inheritance)\n",
    "\n",
    "When a child (subclass) provides a specific implementation of a method that is already defined in its parent class.\n"
   ]
  },
  {
   "cell_type": "code",
   "execution_count": 1,
   "id": "02251754-bb14-4753-92eb-8cba0c6412a2",
   "metadata": {},
   "outputs": [
    {
     "name": "stdout",
     "output_type": "stream",
     "text": [
      "Animal makes a sound\n",
      "Dog barks\n"
     ]
    }
   ],
   "source": [
    "class Animal:\n",
    "    def speak(self):\n",
    "        return \"Animal makes a sound\"\n",
    "\n",
    "class Dog(Animal):\n",
    "    def speak(self):\n",
    "        return \"Dog barks\"\n",
    "\n",
    "a = Animal()\n",
    "d = Dog()\n",
    "\n",
    "print(a.speak())  # Animal makes a sound\n",
    "print(d.speak())  # Dog barks\n"
   ]
  },
  {
   "cell_type": "markdown",
   "id": "b216a81c-7b9b-4af6-9881-3950d8f94250",
   "metadata": {},
   "source": [
    "###  2. Method Overloading (Simulated in Python)\n",
    " Same method name, different number/types of arguments.\n",
    "\n",
    "Python does not support traditional method overloading like Java/C++, but you can simulate it using:\n",
    "\n",
    "Default arguments\n",
    "\n",
    "*args and **kwargs\n",
    "\n"
   ]
  },
  {
   "cell_type": "code",
   "execution_count": 2,
   "id": "cac53244-7584-4109-b996-3f381d6dd4c6",
   "metadata": {},
   "outputs": [
    {
     "name": "stdout",
     "output_type": "stream",
     "text": [
      "2\n",
      "5\n",
      "9\n"
     ]
    }
   ],
   "source": [
    "class Calculator:\n",
    "    def add(self, a, b=0, c=0):\n",
    "        return a + b + c\n",
    "\n",
    "c = Calculator()\n",
    "print(c.add(2))        # 2\n",
    "print(c.add(2, 3))     # 5\n",
    "print(c.add(2, 3, 4))  # 9\n"
   ]
  },
  {
   "cell_type": "markdown",
   "id": "128c1028-1655-4ee4-b519-7347cc315c2a",
   "metadata": {},
   "source": [
    "### 3. Operator Overloading\n",
    "📌 Define how operators like +, ==, etc., work for your own classes.\n",
    "🔁 Technique: Overriding magic methods like __add__, __eq__, etc.\n",
    "🕒 Type: Compile-time polymorphism"
   ]
  },
  {
   "cell_type": "code",
   "execution_count": 42,
   "id": "f9043aaf-46d8-412d-817b-509375339ec2",
   "metadata": {},
   "outputs": [],
   "source": [
    "class Point:\n",
    "    \"\"\"\n",
    "    Operation on 2D points\n",
    "    \"\"\"\n",
    "    def __init__(self, x, y):\n",
    "        self.x = x\n",
    "        self.y = y\n",
    "\n",
    "    def __repr__(self):\n",
    "        return f\"point({self.x}, {self.y})\"\n",
    "\n",
    "    def __add__(self, other):\n",
    "        x = self.x + other.x\n",
    "        y = self.y + other.y\n",
    "        return Point(x, y)\n"
   ]
  },
  {
   "cell_type": "code",
   "execution_count": 17,
   "id": "f795a025-f4ef-48a1-8c6d-c644368c2291",
   "metadata": {},
   "outputs": [],
   "source": [
    "A=Point(4,5)"
   ]
  },
  {
   "cell_type": "code",
   "execution_count": 18,
   "id": "f4ca531a-7e72-402c-a28f-bb0e33adf601",
   "metadata": {},
   "outputs": [],
   "source": [
    "B=Point(6,9)"
   ]
  },
  {
   "cell_type": "code",
   "execution_count": 19,
   "id": "77f65ae7-69bd-42aa-b6d8-0e292606bbb9",
   "metadata": {},
   "outputs": [
    {
     "data": {
      "text/plain": [
       "point(10, 14)"
      ]
     },
     "execution_count": 19,
     "metadata": {},
     "output_type": "execute_result"
    }
   ],
   "source": [
    "A+B"
   ]
  },
  {
   "cell_type": "code",
   "execution_count": 39,
   "id": "ef4f7036-f87c-4a8e-b723-3e4455445cf3",
   "metadata": {},
   "outputs": [],
   "source": [
    "class Point:\n",
    "    def __init__(self, x, y):\n",
    "        self.x = x\n",
    "        self.y = y\n",
    "\n",
    "    def __repr__(self):\n",
    "        return f\"point({self.x}, {self.y})\"\n",
    "\n",
    "    def __sub__(self, other):\n",
    "        x = self.x - other.x\n",
    "        y = self.y - other.y\n",
    "        return Point(x, y)\n",
    "    def __pow__(self, exp):\n",
    "        x = self.x ** exp\n",
    "        y = self.y ** exp\n",
    "        return Point(x, y)\n",
    "    def __gt__(self, other):\n",
    "        return self.x> other.x and self.y>other.y\n"
   ]
  },
  {
   "cell_type": "code",
   "execution_count": 34,
   "id": "ead8f21f-2e83-4fab-8cd9-1f2a20b37efb",
   "metadata": {},
   "outputs": [],
   "source": [
    "A=Point (3,4)"
   ]
  },
  {
   "cell_type": "code",
   "execution_count": 35,
   "id": "826d1ef4-baa2-4de6-8b5d-f3750e8eb315",
   "metadata": {},
   "outputs": [],
   "source": [
    "B=Point (4,5)"
   ]
  },
  {
   "cell_type": "code",
   "execution_count": 36,
   "id": "433eda78-4ac5-45e4-9229-69dd20166f3c",
   "metadata": {},
   "outputs": [
    {
     "data": {
      "text/plain": [
       "point(-1, -1)"
      ]
     },
     "execution_count": 36,
     "metadata": {},
     "output_type": "execute_result"
    }
   ],
   "source": [
    "A-B"
   ]
  },
  {
   "cell_type": "code",
   "execution_count": 46,
   "id": "55f9a1d2-a784-4ac9-8080-45ba03ff66e4",
   "metadata": {},
   "outputs": [
    {
     "name": "stdout",
     "output_type": "stream",
     "text": [
      "None\n"
     ]
    }
   ],
   "source": [
    "print(A.__doc__)"
   ]
  },
  {
   "cell_type": "markdown",
   "id": "a30481a0-4651-4f7a-8d54-18ac0076be33",
   "metadata": {},
   "source": [
    "# Ducktyping"
   ]
  },
  {
   "cell_type": "code",
   "execution_count": 56,
   "id": "422107a3-71d9-40ca-a094-139b431f608d",
   "metadata": {},
   "outputs": [],
   "source": [
    "class Car:\n",
    "    def drive(self):\n",
    "        print(\"Car is driving\")\n",
    "\n",
    "class Bike:\n",
    "    def drive(self):\n",
    "        print(\"Bike is driving\")\n",
    "\n",
    "def start_driving(vehicle):\n",
    "    vehicle.drive()\n",
    "\n",
    "car = Car()\n",
    "bike = Bike()\n",
    "\n"
   ]
  },
  {
   "cell_type": "code",
   "execution_count": 57,
   "id": "7fa50e2a-9a41-4fbb-a952-fbea20a21796",
   "metadata": {},
   "outputs": [
    {
     "name": "stdout",
     "output_type": "stream",
     "text": [
      "Car is driving\n"
     ]
    }
   ],
   "source": [
    "start_driving(car)"
   ]
  },
  {
   "cell_type": "code",
   "execution_count": null,
   "id": "52ddb2e1-8e05-49dd-bd4d-411dbc76adfd",
   "metadata": {},
   "outputs": [],
   "source": []
  }
 ],
 "metadata": {
  "kernelspec": {
   "display_name": "Python 3 (ipykernel)",
   "language": "python",
   "name": "python3"
  },
  "language_info": {
   "codemirror_mode": {
    "name": "ipython",
    "version": 3
   },
   "file_extension": ".py",
   "mimetype": "text/x-python",
   "name": "python",
   "nbconvert_exporter": "python",
   "pygments_lexer": "ipython3",
   "version": "3.13.5"
  }
 },
 "nbformat": 4,
 "nbformat_minor": 5
}
