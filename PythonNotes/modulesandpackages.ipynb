{
 "cells": [
  {
   "cell_type": "markdown",
   "id": "71046cde-b3c3-4b3a-b09a-fee5a96170f8",
   "metadata": {},
   "source": [
    "# Modules and Packages"
   ]
  },
  {
   "cell_type": "markdown",
   "id": "2b47f09d-2aa8-4725-a28f-bcb2307e5be1",
   "metadata": {},
   "source": [
    "A module is simply a .py file containing Python code — functions, classes, or variables — that you can import and use in other files.\n",
    "    A package is a collection of Python modules grouped in a directory. A package must contain a special file named __init__.py (can be empty) to be recognized as a package (in Python 3.3+, it's optional but still common)."
   ]
  },
  {
   "cell_type": "markdown",
   "id": "b2222a15-f801-493e-a7be-c53b38ad44cd",
   "metadata": {},
   "source": [
    "# Python Date AND Time modules"
   ]
  },
  {
   "cell_type": "code",
   "execution_count": null,
   "id": "c9b3a188-02e9-4d01-8af4-d231ce22a981",
   "metadata": {},
   "outputs": [],
   "source": []
  },
  {
   "cell_type": "code",
   "execution_count": null,
   "id": "c91348e2-281e-41d3-8892-8d4dbba2fd77",
   "metadata": {},
   "outputs": [],
   "source": []
  }
 ],
 "metadata": {
  "kernelspec": {
   "display_name": "Python 3 (ipykernel)",
   "language": "python",
   "name": "python3"
  },
  "language_info": {
   "codemirror_mode": {
    "name": "ipython",
    "version": 3
   },
   "file_extension": ".py",
   "mimetype": "text/x-python",
   "name": "python",
   "nbconvert_exporter": "python",
   "pygments_lexer": "ipython3",
   "version": "3.13.5"
  }
 },
 "nbformat": 4,
 "nbformat_minor": 5
}
