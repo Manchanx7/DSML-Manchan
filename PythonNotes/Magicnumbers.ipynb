{
 "cells": [
  {
   "cell_type": "markdown",
   "id": "b2c8df8e-97d5-478b-b05e-d589784660ae",
   "metadata": {},
   "source": [
    "# Magic Methods in python"
   ]
  },
  {
   "cell_type": "markdown",
   "id": "0d175ce3-5968-442e-aa8f-0f1f9feb7560",
   "metadata": {},
   "source": [
    "## Magic methods are special methods in Python that start and end with double underscores (__like_this__).\n",
    "## They let you define or customize the behavior of built-in operations (e.g., addition, printing, length, comparison) for your custom classes."
   ]
  },
  {
   "cell_type": "code",
   "execution_count": 13,
   "id": "fe45657d-e166-4b4c-baf0-3a6b47656510",
   "metadata": {},
   "outputs": [],
   "source": [
    "class Person:\n",
    "    def __init__(objr, name, age):\n",
    "        objr.name = name\n",
    "        objr.age = age\n",
    "\n",
    "    def __str__(objr):\n",
    "        return f\"{objr.name} of {objr.age} years old\"\n",
    "\n",
    "    def __repr__(objr):\n",
    "        return f\"Person({objr.name}, {objr.age})\"\n",
    "    \n",
    "    def __len__(objr):\n",
    "        return objr.age\n",
    "    \n",
    "    def __call__(objr, gender=\"Male\"):\n",
    "        return f\"{objr.name} is a {gender}\"\n"
   ]
  },
  {
   "cell_type": "code",
   "execution_count": 9,
   "id": "3841ffba-4473-41bb-9eb8-5fa42cbe99d9",
   "metadata": {},
   "outputs": [],
   "source": [
    "person = Person(\"Manchan\",17)"
   ]
  },
  {
   "cell_type": "code",
   "execution_count": 10,
   "id": "85b44c23-552d-44fd-8997-3fcfb6020811",
   "metadata": {},
   "outputs": [
    {
     "data": {
      "text/plain": [
       "'Manchan'"
      ]
     },
     "execution_count": 10,
     "metadata": {},
     "output_type": "execute_result"
    }
   ],
   "source": [
    "person.name"
   ]
  },
  {
   "cell_type": "code",
   "execution_count": 16,
   "id": "47122820-505a-46e2-86a2-41b6994d23c0",
   "metadata": {},
   "outputs": [
    {
     "name": "stdout",
     "output_type": "stream",
     "text": [
      "Manchan of 17 years old\n"
     ]
    }
   ],
   "source": [
    "print(person)"
   ]
  },
  {
   "cell_type": "code",
   "execution_count": null,
   "id": "dc814406-dac3-4959-a538-4d081009973a",
   "metadata": {},
   "outputs": [],
   "source": []
  },
  {
   "cell_type": "code",
   "execution_count": null,
   "id": "d76fc526-d250-40a2-a7c1-2da963b70c5b",
   "metadata": {},
   "outputs": [],
   "source": []
  }
 ],
 "metadata": {
  "kernelspec": {
   "display_name": "Python 3 (ipykernel)",
   "language": "python",
   "name": "python3"
  },
  "language_info": {
   "codemirror_mode": {
    "name": "ipython",
    "version": 3
   },
   "file_extension": ".py",
   "mimetype": "text/x-python",
   "name": "python",
   "nbconvert_exporter": "python",
   "pygments_lexer": "ipython3",
   "version": "3.13.5"
  }
 },
 "nbformat": 4,
 "nbformat_minor": 5
}
