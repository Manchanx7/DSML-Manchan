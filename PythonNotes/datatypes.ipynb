{
 "cells": [
  {
   "cell_type": "markdown",
   "id": "c7c0f19a-8458-4604-97da-d9592dc36c95",
   "metadata": {},
   "source": [
    "# Python Datatypes"
   ]
  },
  {
   "cell_type": "markdown",
   "id": "8e5e0959-76ac-49ec-8b08-6474fed2c9a6",
   "metadata": {},
   "source": [
    "## Data types in Python tell us what kind of value we are dealing with, like a number, text, list, or something else.\n",
    "\n",
    "It helps Python understand:\n",
    "\n",
    "How to store the value\n",
    "\n",
    "What kind of operations we can perform on it\n",
    "\n"
   ]
  },
  {
   "cell_type": "markdown",
   "id": "7c38c2a7-57bc-43aa-8057-0006dba47fac",
   "metadata": {},
   "source": [
    "## Common Datatypes in Python"
   ]
  },
  {
   "cell_type": "markdown",
   "id": "dc81417d-ff35-47de-aba3-faccf896879f",
   "metadata": {},
   "source": [
    "| Data Type | Description                     | Example                   |\n",
    "| --------- | ------------------------------- | ------------------------- |\n",
    "| `int`     | Whole numbers                   | `5`, `-10`, `100`         |\n",
    "| `float`   | Decimal numbers                 | `3.14`, `-0.5`, `99.99`   |\n",
    "| `str`     | Text (strings)                  | `\"Hello\"`, `'Manchan'`    |\n",
    "| `bool`    | Boolean (True or False)         | `True`, `False`           |\n",
    "| `list`    | Ordered group of items          | `[1, 2, 3]`, `['a', 'b']` |\n",
    "| `tuple`   | Ordered & unchangeable items    | `(1, 2)`, `('x', 'y')`    |\n",
    "| `dict`    | Key-value pairs                 | `{'name': 'Manchan'}`     |\n",
    "| `set`     | Unordered group of unique items | `{1, 2, 3}`               |\n"
   ]
  },
  {
   "cell_type": "code",
   "execution_count": 6,
   "id": "b87d260c-0581-48ab-8764-c9243a4246eb",
   "metadata": {},
   "outputs": [
    {
     "name": "stdout",
     "output_type": "stream",
     "text": [
      "<class 'int'>\n",
      "<class 'float'>\n",
      "<class 'str'>\n",
      "<class 'bool'>\n",
      "<class 'tuple'>\n",
      "<class 'tuple'>\n",
      "<class 'dict'>\n",
      "<class 'set'>\n"
     ]
    }
   ],
   "source": [
    "a=5 #class\n",
    "b=3.5 #foat\n",
    "c=\"Manchan\" #str\n",
    "d=True #boolean\n",
    "e=[1,2,3,4,5,6],['a','b'] #list\n",
    "f=(1,2,3,4,5)#tuple\n",
    "g={'student':'Manchan'}#dict\n",
    "h={4,5,6}#set\n",
    "\n",
    "print(type(a))\n",
    "print(type(b))\n",
    "print(type(c))\n",
    "print(type(d))\n",
    "print(type(e))\n",
    "print(type(f))\n",
    "print(type(g))\n",
    "print(type(h))"
   ]
  },
  {
   "cell_type": "markdown",
   "id": "fd88f87e-dd24-481c-9797-0ce6ddddbea6",
   "metadata": {},
   "source": [
    "# Numerical operations"
   ]
  },
  {
   "cell_type": "markdown",
   "id": "63ded67c-b7b7-4086-946d-aed46331c785",
   "metadata": {},
   "source": [
    "## Numerical operations in python helps us to add,subtract,divide,multiply etc."
   ]
  },
  {
   "cell_type": "code",
   "execution_count": 9,
   "id": "e9c37981-c1cf-4169-84ee-767c349014d2",
   "metadata": {},
   "outputs": [
    {
     "name": "stdout",
     "output_type": "stream",
     "text": [
      "12\n",
      "-2\n",
      "35\n",
      "0.7142857142857143\n",
      "0\n",
      "78125\n"
     ]
    }
   ],
   "source": [
    "s=5\n",
    "g=7\n",
    "print(s+g)\n",
    "print(s-g)\n",
    "print(s*g)\n",
    "print(s/g)\n",
    "print(s//g)\n",
    "print(s**g)"
   ]
  },
  {
   "cell_type": "markdown",
   "id": "f8123c72-a177-43bb-a020-a9467b0d2c06",
   "metadata": {},
   "source": [
    "# String Operations\n",
    "## Strings are super versatile, and you can do a lot with them. Here are the most common operations:\n"
   ]
  },
  {
   "cell_type": "markdown",
   "id": "39de2169-cb83-4375-8ee0-d21baf799bba",
   "metadata": {},
   "source": [
    "### 1. Concatenation (Joining Strings)\n",
    "Use the + operator to join two or more strings."
   ]
  },
  {
   "cell_type": "code",
   "execution_count": 11,
   "id": "8beef212-c6a1-4153-bf2e-a3d3430dc030",
   "metadata": {},
   "outputs": [
    {
     "name": "stdout",
     "output_type": "stream",
     "text": [
      "Hello My name is Manchan Rana Magar\n"
     ]
    }
   ],
   "source": [
    "a=\"Hello\"\n",
    "b=\"My name is Manchan Rana Magar\"\n",
    "print(a +\" \"+b)"
   ]
  },
  {
   "cell_type": "markdown",
   "id": "824068f6-1f4d-448e-8d91-47ee864be00d",
   "metadata": {},
   "source": [
    "## We use \" \" between two strings to provide a space between two string. If we do not provide \" \" between the strings the strings will get combined without any spcace between them.for Example:"
   ]
  },
  {
   "cell_type": "code",
   "execution_count": 12,
   "id": "560294e6-d887-4fd6-a89a-b8bc48f91574",
   "metadata": {},
   "outputs": [
    {
     "name": "stdout",
     "output_type": "stream",
     "text": [
      "a+b\n"
     ]
    }
   ],
   "source": [
    "a=\"YO\"\n",
    "b=\"WASSUP\"\n",
    "print(\"a+b\")"
   ]
  },
  {
   "cell_type": "markdown",
   "id": "13002f6f-9f29-45db-bf41-8adc178548e4",
   "metadata": {},
   "source": [
    "## Now lets try with \" \" Between the strings."
   ]
  },
  {
   "cell_type": "code",
   "execution_count": 14,
   "id": "d7e09bf4-11cc-4dc1-88d6-9905ae8f279d",
   "metadata": {},
   "outputs": [
    {
     "name": "stdout",
     "output_type": "stream",
     "text": [
      "YO WASSUP\n"
     ]
    }
   ],
   "source": [
    "a=\"YO\"\n",
    "b=\"WASSUP\"\n",
    "print(a+\" \"+b)"
   ]
  },
  {
   "cell_type": "markdown",
   "id": "184d03e8-8a8a-4001-9fe6-d87af1d1c520",
   "metadata": {},
   "source": [
    "### 2.Repetation\n",
    "Repeats a string multiple times."
   ]
  },
  {
   "cell_type": "code",
   "execution_count": 15,
   "id": "bae5ffa0-aa9e-4161-855a-22d8bebfd72b",
   "metadata": {},
   "outputs": [
    {
     "name": "stdout",
     "output_type": "stream",
     "text": [
      "ManchanManchanManchan\n"
     ]
    }
   ],
   "source": [
    "Name=\"Manchan\"\n",
    "print(Name*3)"
   ]
  },
  {
   "cell_type": "markdown",
   "id": "08521392-1142-4ce2-9663-dad8d97c92a0",
   "metadata": {},
   "source": [
    "### 3. Changing Case\n",
    "Python has handy methods to change the case of strings:\n",
    "\n",
    ".lower() → converts all letters to lowercase\n",
    "\n",
    ".upper() → converts all letters to uppercase\n",
    "\n",
    ".capitalize() → capitalizes the first letter only\n",
    "\n"
   ]
  },
  {
   "cell_type": "code",
   "execution_count": 17,
   "id": "241be74e-f37a-4fbb-8e32-b56378fc9579",
   "metadata": {},
   "outputs": [
    {
     "name": "stdout",
     "output_type": "stream",
     "text": [
      "manchan\n",
      "MANCHAN\n",
      "Manchan\n"
     ]
    }
   ],
   "source": [
    "Name=\"MaNChan\"\n",
    "print(Name.lower())\n",
    "print(Name.upper())\n",
    "print(Name.capitalize())"
   ]
  },
  {
   "cell_type": "markdown",
   "id": "e8b25da3-eba7-421a-8ae6-25fd70098726",
   "metadata": {},
   "source": [
    "### 4.Finding Length of a String\n",
    "Use the built-in function len() to find out how many characters are in a string (including spaces)."
   ]
  },
  {
   "cell_type": "code",
   "execution_count": 18,
   "id": "78fb9746-01c8-4ef1-88ba-80ab3aa410b5",
   "metadata": {},
   "outputs": [
    {
     "name": "stdout",
     "output_type": "stream",
     "text": [
      "18\n"
     ]
    }
   ],
   "source": [
    "Name=\"Manchan Rana Magar\"\n",
    "print(len(Name))"
   ]
  },
  {
   "cell_type": "markdown",
   "id": "2e814ed4-7c23-4ae2-8678-2a35466e7f49",
   "metadata": {},
   "source": [
    "###  5.Split\n",
    "The .split() method breaks a string into a list of smaller strings, usually splitting at spaces.\n",
    "\n"
   ]
  },
  {
   "cell_type": "code",
   "execution_count": 20,
   "id": "a9d47a70-8e0e-4400-8f16-5939f6fec47f",
   "metadata": {},
   "outputs": [
    {
     "name": "stdout",
     "output_type": "stream",
     "text": [
      "['Manchan', 'Rana', 'Magar']\n"
     ]
    }
   ],
   "source": [
    "Name=\"Manchan Rana Magar\"\n",
    "word=Name.split()\n",
    "print(word)\n"
   ]
  },
  {
   "cell_type": "markdown",
   "id": "66422f52-9e7c-488f-9c58-47879afd0826",
   "metadata": {},
   "source": [
    "### 6.Strip\n",
    "The .strip() method removes any extra whitespace (spaces, tabs, newlines) from the start and end of a string."
   ]
  },
  {
   "cell_type": "code",
   "execution_count": 26,
   "id": "f857d75b-c4b3-441c-8002-b2f527a06e90",
   "metadata": {
    "scrolled": true
   },
   "outputs": [
    {
     "name": "stdout",
     "output_type": "stream",
     "text": [
      "Manchan\n"
     ]
    }
   ],
   "source": [
    "Name=\"  Manchan  \"\n",
    "print(Name.strip())"
   ]
  },
  {
   "cell_type": "code",
   "execution_count": 24,
   "id": "83f9a8d3-fe05-41cb-ac04-dc5899014fe6",
   "metadata": {
    "scrolled": true
   },
   "outputs": [
    {
     "name": "stdout",
     "output_type": "stream",
     "text": [
      "Hello World!\n"
     ]
    }
   ],
   "source": [
    "text = \"   Hello World!   \"\n",
    "print(text.strip())  # Output: Hello World!\n"
   ]
  },
  {
   "cell_type": "markdown",
   "id": "44396a4b-f2fd-429c-82e0-8385c2a6a212",
   "metadata": {},
   "source": [
    "### 7. .replace(old, new)\n",
    "What it does:\n",
    "Replaces part of a string (the old value) with a new value"
   ]
  },
  {
   "cell_type": "code",
   "execution_count": 39,
   "id": "10d7b0a3-9592-460e-b521-e307333cfe92",
   "metadata": {},
   "outputs": [
    {
     "name": "stdout",
     "output_type": "stream",
     "text": [
      "This is Data Science\n"
     ]
    }
   ],
   "source": [
    "Word=\"This is Graphics Designing\"\n",
    "newword= Word.replace(\"Graphics\",\"Data\").replace(\"Designing\",\"Science\")\n",
    "print(newword)"
   ]
  }
 ],
 "metadata": {
  "kernelspec": {
   "display_name": "Python 3 (ipykernel)",
   "language": "python",
   "name": "python3"
  },
  "language_info": {
   "codemirror_mode": {
    "name": "ipython",
    "version": 3
   },
   "file_extension": ".py",
   "mimetype": "text/x-python",
   "name": "python",
   "nbconvert_exporter": "python",
   "pygments_lexer": "ipython3",
   "version": "3.13.5"
  }
 },
 "nbformat": 4,
 "nbformat_minor": 5
}
