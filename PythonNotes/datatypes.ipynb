{
 "cells": [
  {
   "cell_type": "markdown",
   "id": "c7c0f19a-8458-4604-97da-d9592dc36c95",
   "metadata": {},
   "source": [
    "# Python Datatypes"
   ]
  },
  {
   "cell_type": "markdown",
   "id": "8e5e0959-76ac-49ec-8b08-6474fed2c9a6",
   "metadata": {},
   "source": [
    "## Data types in Python tell us what kind of value we are dealing with, like a number, text, list, or something else.\n",
    "\n",
    "It helps Python understand:\n",
    "\n",
    "How to store the value\n",
    "\n",
    "What kind of operations we can perform on it\n",
    "\n"
   ]
  },
  {
   "cell_type": "markdown",
   "id": "7c38c2a7-57bc-43aa-8057-0006dba47fac",
   "metadata": {},
   "source": [
    "## Common Datatypes in Python"
   ]
  },
  {
   "cell_type": "markdown",
   "id": "dc81417d-ff35-47de-aba3-faccf896879f",
   "metadata": {},
   "source": [
    "| Data Type | Description                     | Example                   |\n",
    "| --------- | ------------------------------- | ------------------------- |\n",
    "| `int`     | Whole numbers                   | `5`, `-10`, `100`         |\n",
    "| `float`   | Decimal numbers                 | `3.14`, `-0.5`, `99.99`   |\n",
    "| `str`     | Text (strings)                  | `\"Hello\"`, `'Manchan'`    |\n",
    "| `bool`    | Boolean (True or False)         | `True`, `False`           |\n",
    "| `list`    | Ordered group of items          | `[1, 2, 3]`, `['a', 'b']` |\n",
    "| `tuple`   | Ordered & unchangeable items    | `(1, 2)`, `('x', 'y')`    |\n",
    "| `dict`    | Key-value pairs                 | `{'name': 'Manchan'}`     |\n",
    "| `set`     | Unordered group of unique items | `{1, 2, 3}`               |\n"
   ]
  },
  {
   "cell_type": "code",
   "execution_count": 6,
   "id": "b87d260c-0581-48ab-8764-c9243a4246eb",
   "metadata": {},
   "outputs": [
    {
     "name": "stdout",
     "output_type": "stream",
     "text": [
      "<class 'int'>\n",
      "<class 'float'>\n",
      "<class 'str'>\n",
      "<class 'bool'>\n",
      "<class 'tuple'>\n",
      "<class 'tuple'>\n",
      "<class 'dict'>\n",
      "<class 'set'>\n"
     ]
    }
   ],
   "source": [
    "a=5 #class\n",
    "b=3.5 #foat\n",
    "c=\"Manchan\" #str\n",
    "d=True #boolean\n",
    "e=[1,2,3,4,5,6],['a','b'] #list\n",
    "f=(1,2,3,4,5)#tuple\n",
    "g={'student':'Manchan'}#dict\n",
    "h={4,5,6}#set\n",
    "\n",
    "print(type(a))\n",
    "print(type(b))\n",
    "print(type(c))\n",
    "print(type(d))\n",
    "print(type(e))\n",
    "print(type(f))\n",
    "print(type(g))\n",
    "print(type(h))"
   ]
  },
  {
   "cell_type": "markdown",
   "id": "fd88f87e-dd24-481c-9797-0ce6ddddbea6",
   "metadata": {},
   "source": [
    "# Numerical operations"
   ]
  },
  {
   "cell_type": "markdown",
   "id": "63ded67c-b7b7-4086-946d-aed46331c785",
   "metadata": {},
   "source": [
    "## Numerical operations in python helps us to add,subtract,divide,multiply etc."
   ]
  },
  {
   "cell_type": "code",
   "execution_count": 9,
   "id": "e9c37981-c1cf-4169-84ee-767c349014d2",
   "metadata": {},
   "outputs": [
    {
     "name": "stdout",
     "output_type": "stream",
     "text": [
      "12\n",
      "-2\n",
      "35\n",
      "0.7142857142857143\n",
      "0\n",
      "78125\n"
     ]
    }
   ],
   "source": [
    "s=5\n",
    "g=7\n",
    "print(s+g)\n",
    "print(s-g)\n",
    "print(s*g)\n",
    "print(s/g)\n",
    "print(s//g)\n",
    "print(s**g)"
   ]
  },
  {
   "cell_type": "markdown",
   "id": "f8123c72-a177-43bb-a020-a9467b0d2c06",
   "metadata": {},
   "source": [
    "# String Operations\n",
    "## Strings are super versatile, and you can do a lot with them. Here are the most common operations:\n"
   ]
  },
  {
   "cell_type": "markdown",
   "id": "39de2169-cb83-4375-8ee0-d21baf799bba",
   "metadata": {},
   "source": [
    "### 1. Concatenation (Joining Strings)\n",
    "Use the + operator to join two or more strings."
   ]
  },
  {
   "cell_type": "code",
   "execution_count": 11,
   "id": "8beef212-c6a1-4153-bf2e-a3d3430dc030",
   "metadata": {},
   "outputs": [
    {
     "name": "stdout",
     "output_type": "stream",
     "text": [
      "Hello My name is Manchan Rana Magar\n"
     ]
    }
   ],
   "source": [
    "a=\"Hello\"\n",
    "b=\"My name is Manchan Rana Magar\"\n",
    "print(a +\" \"+b)"
   ]
  },
  {
   "cell_type": "markdown",
   "id": "824068f6-1f4d-448e-8d91-47ee864be00d",
   "metadata": {},
   "source": [
    "## We use \" \" between two strings to provide a space between two string. If we do not provide \" \" between the strings the strings will get combined without any spcace between them.for Example:"
   ]
  },
  {
   "cell_type": "code",
   "execution_count": 12,
   "id": "560294e6-d887-4fd6-a89a-b8bc48f91574",
   "metadata": {},
   "outputs": [
    {
     "name": "stdout",
     "output_type": "stream",
     "text": [
      "a+b\n"
     ]
    }
   ],
   "source": [
    "a=\"YO\"\n",
    "b=\"WASSUP\"\n",
    "print(\"a+b\")"
   ]
  },
  {
   "cell_type": "markdown",
   "id": "13002f6f-9f29-45db-bf41-8adc178548e4",
   "metadata": {},
   "source": [
    "## Now lets try with \" \" Between the strings."
   ]
  },
  {
   "cell_type": "code",
   "execution_count": 14,
   "id": "d7e09bf4-11cc-4dc1-88d6-9905ae8f279d",
   "metadata": {},
   "outputs": [
    {
     "name": "stdout",
     "output_type": "stream",
     "text": [
      "YO WASSUP\n"
     ]
    }
   ],
   "source": [
    "a=\"YO\"\n",
    "b=\"WASSUP\"\n",
    "print(a+\" \"+b)"
   ]
  },
  {
   "cell_type": "markdown",
   "id": "184d03e8-8a8a-4001-9fe6-d87af1d1c520",
   "metadata": {},
   "source": [
    "### 2.Repetation\n",
    "Repeats a string multiple times."
   ]
  },
  {
   "cell_type": "code",
   "execution_count": 15,
   "id": "bae5ffa0-aa9e-4161-855a-22d8bebfd72b",
   "metadata": {},
   "outputs": [
    {
     "name": "stdout",
     "output_type": "stream",
     "text": [
      "ManchanManchanManchan\n"
     ]
    }
   ],
   "source": [
    "Name=\"Manchan\"\n",
    "print(Name*3)"
   ]
  },
  {
   "cell_type": "markdown",
   "id": "08521392-1142-4ce2-9663-dad8d97c92a0",
   "metadata": {},
   "source": [
    "### 3. Changing Case\n",
    "Python has handy methods to change the case of strings:\n",
    "\n",
    ".lower() → converts all letters to lowercase\n",
    "\n",
    ".upper() → converts all letters to uppercase\n",
    "\n",
    ".capitalize() → capitalizes the first letter only\n",
    "\n"
   ]
  },
  {
   "cell_type": "code",
   "execution_count": 17,
   "id": "241be74e-f37a-4fbb-8e32-b56378fc9579",
   "metadata": {},
   "outputs": [
    {
     "name": "stdout",
     "output_type": "stream",
     "text": [
      "manchan\n",
      "MANCHAN\n",
      "Manchan\n"
     ]
    }
   ],
   "source": [
    "Name=\"MaNChan\"\n",
    "print(Name.lower())\n",
    "print(Name.upper())\n",
    "print(Name.capitalize())"
   ]
  },
  {
   "cell_type": "markdown",
   "id": "e8b25da3-eba7-421a-8ae6-25fd70098726",
   "metadata": {},
   "source": [
    "### 4.Finding Length of a String\n",
    "Use the built-in function len() to find out how many characters are in a string (including spaces)."
   ]
  },
  {
   "cell_type": "code",
   "execution_count": 18,
   "id": "78fb9746-01c8-4ef1-88ba-80ab3aa410b5",
   "metadata": {},
   "outputs": [
    {
     "name": "stdout",
     "output_type": "stream",
     "text": [
      "18\n"
     ]
    }
   ],
   "source": [
    "Name=\"Manchan Rana Magar\"\n",
    "print(len(Name))"
   ]
  },
  {
   "cell_type": "markdown",
   "id": "2e814ed4-7c23-4ae2-8678-2a35466e7f49",
   "metadata": {},
   "source": [
    "###  5.Split\n",
    "The .split() method breaks a string into a list of smaller strings, usually splitting at spaces.\n",
    "\n"
   ]
  },
  {
   "cell_type": "code",
   "execution_count": 20,
   "id": "a9d47a70-8e0e-4400-8f16-5939f6fec47f",
   "metadata": {},
   "outputs": [
    {
     "name": "stdout",
     "output_type": "stream",
     "text": [
      "['Manchan', 'Rana', 'Magar']\n"
     ]
    }
   ],
   "source": [
    "Name=\"Manchan Rana Magar\"\n",
    "word=Name.split()\n",
    "print(word)\n"
   ]
  },
  {
   "cell_type": "markdown",
   "id": "66422f52-9e7c-488f-9c58-47879afd0826",
   "metadata": {},
   "source": [
    "### 6.Strip\n",
    "The .strip() method removes any extra whitespace (spaces, tabs, newlines) from the start and end of a string."
   ]
  },
  {
   "cell_type": "code",
   "execution_count": 26,
   "id": "f857d75b-c4b3-441c-8002-b2f527a06e90",
   "metadata": {
    "scrolled": true
   },
   "outputs": [
    {
     "name": "stdout",
     "output_type": "stream",
     "text": [
      "Manchan\n"
     ]
    }
   ],
   "source": [
    "Name=\"  Manchan  \"\n",
    "print(Name.strip())"
   ]
  },
  {
   "cell_type": "code",
   "execution_count": 24,
   "id": "83f9a8d3-fe05-41cb-ac04-dc5899014fe6",
   "metadata": {
    "scrolled": true
   },
   "outputs": [
    {
     "name": "stdout",
     "output_type": "stream",
     "text": [
      "Hello World!\n"
     ]
    }
   ],
   "source": [
    "text = \"   Hello World!   \"\n",
    "print(text.strip())  # Output: Hello World!\n"
   ]
  },
  {
   "cell_type": "markdown",
   "id": "44396a4b-f2fd-429c-82e0-8385c2a6a212",
   "metadata": {},
   "source": [
    "### 7. .replace(old, new)\n",
    "What it does:\n",
    "Replaces part of a string (the old value) with a new value"
   ]
  },
  {
   "cell_type": "code",
   "execution_count": 39,
   "id": "10d7b0a3-9592-460e-b521-e307333cfe92",
   "metadata": {},
   "outputs": [
    {
     "name": "stdout",
     "output_type": "stream",
     "text": [
      "This is Data Science\n"
     ]
    }
   ],
   "source": [
    "Word=\"This is Graphics Designing\"\n",
    "newword= Word.replace(\"Graphics\",\"Data\").replace(\"Designing\",\"Science\")\n",
    "print(newword)"
   ]
  },
  {
   "cell_type": "markdown",
   "id": "2dd3baa5-e310-4b15-942d-a56c7084c7d6",
   "metadata": {},
   "source": [
    "# Sequence Types: Lists and Tuples\n",
    "### Definition:\n",
    "Sequences are ordered collections of items.\n",
    "\n",
    "Lists are mutable sequences (you can change, add, or remove elements).\n",
    "\n",
    "Tuples are immutable sequences (once created, their contents cannot be changed).\n",
    "\n",
    "Both store elements in order and allow indexing, slicing, and iteration.\n",
    "\n"
   ]
  },
  {
   "cell_type": "markdown",
   "id": "61ef7e98-b926-418c-beb3-753645ea7677",
   "metadata": {},
   "source": [
    "## 1. List\n",
    "Defined with square brackets [ ]\n",
    "\n",
    "Can contain elements of any data type\n",
    "\n",
    "Supports modification (add, remove, change elements)"
   ]
  },
  {
   "cell_type": "code",
   "execution_count": 1,
   "id": "5f2028b1-e602-4687-b2a1-dd1802bcad28",
   "metadata": {},
   "outputs": [
    {
     "name": "stdout",
     "output_type": "stream",
     "text": [
      "banana\n",
      "['mango', 'banana', 'cherry']\n",
      "['mango', 'banana', 'cherry', 'orange']\n",
      "['mango', 'cherry', 'orange']\n"
     ]
    }
   ],
   "source": [
    "fruits = [\"apple\", \"banana\", \"cherry\"]\n",
    "\n",
    "# Access\n",
    "print(fruits[1])  # banana\n",
    "\n",
    "# Modify\n",
    "fruits[0] = \"mango\"\n",
    "print(fruits)  # ['mango', 'banana', 'cherry']\n",
    "\n",
    "# Add element\n",
    "fruits.append(\"orange\")\n",
    "print(fruits)  # ['mango', 'banana', 'cherry', 'orange']\n",
    "\n",
    "# Remove element\n",
    "fruits.remove(\"banana\")\n",
    "print(fruits)  # ['mango', 'cherry', 'orange']\n"
   ]
  },
  {
   "cell_type": "markdown",
   "id": "8cbf8adb-ced2-4828-99d2-1191af5b89b7",
   "metadata": {},
   "source": [
    "# Question\n",
    "## Write a Python program that:\n",
    "\n",
    "Creates a list of your favorite footballers (at least 5 names).\n",
    "\n",
    "1.Prints the entire list.\n",
    "\n",
    "2.Adds a new footballer to the list.\n",
    "\n",
    "3.Removes one footballer from the list.\n",
    "\n",
    "4.Prints the updated list.\n",
    "\n",
    "5.Prints the first and last footballer from the list using indexin"
   ]
  },
  {
   "cell_type": "code",
   "execution_count": 9,
   "id": "44494016-5f12-4014-8811-007ff08fa8ca",
   "metadata": {},
   "outputs": [
    {
     "name": "stdout",
     "output_type": "stream",
     "text": [
      "['Ronaldo', 'Messi', 'Neymar', 'Kroos', 'Modric']\n",
      "['Ronaldo', 'Messi', 'Neymar', 'Kroos', 'Modric', 'mbappe']\n",
      "['Ronaldo', 'Neymar', 'Kroos', 'Modric', 'mbappe']\n",
      "Ronaldo mbappe\n"
     ]
    }
   ],
   "source": [
    "footballers =[\"Ronaldo\",\"Messi\",\"Neymar\",\"Kroos\",\"Modric\"]\n",
    "print (footballers)\n",
    "footballers.append(\"mbappe\")\n",
    "print(footballers)\n",
    "footballers.remove(\"Messi\")\n",
    "print(footballers)\n",
    "print(footballers[0],footballers[4])\n"
   ]
  },
  {
   "cell_type": "markdown",
   "id": "24a525fd-a7b2-440c-b0d6-9df5b704cdbf",
   "metadata": {},
   "source": [
    "# Question "
   ]
  },
  {
   "cell_type": "markdown",
   "id": "c8c108af-918b-40a0-b3ab-53c95f7f91da",
   "metadata": {},
   "source": [
    "\n",
    "## Write a Python program that does the following:\n",
    "\n",
    "* Create a list of 6 football players (you choose).\n",
    "* Sort the list alphabetically.\n",
    "* Insert a new player at position 2 (index 1).\n",
    "* Remove the last player using `pop()`.\n",
    "* Add one player name that’s already in the list (a duplicate).\n",
    "* Count how many times that player appears.\n",
    "* Print the final list and the count.\n",
    "\n",
    "**Bonus:**\n",
    "\n",
    "* Print the index of a specific player (e.g., `\"Messi\"`) if they’re in the list.\n",
    "\n",
    "---\n",
    "\n",
    "\n"
   ]
  },
  {
   "cell_type": "code",
   "execution_count": 24,
   "id": "3e7f4a72-9162-440c-9e0b-ae2ad7f214b9",
   "metadata": {},
   "outputs": [
    {
     "name": "stdout",
     "output_type": "stream",
     "text": [
      "['Drogba', 'Kylian', 'Messi', 'Ramos', 'Ronaldo', 'Torres']\n",
      "['Drogba', 'Kylian', 'Messi', 'Ramos', 'Haaland', 'Ronaldo', 'Torres']\n",
      "['Drogba', 'Kylian', 'Messi', 'Ramos', 'Haaland', 'Ronaldo']\n",
      "['Drogba', 'Kylian', 'Messi', 'Ramos', 'Haaland', 'Ronaldo', 'Ronaldo']\n",
      "The number of times ronaldo appear is: 2\n",
      "<built-in method count of list object at 0x00000238FC656900>\n"
     ]
    }
   ],
   "source": [
    "footballers =[\"Ronaldo\",\"Messi\",\"Kylian\",\"Drogba\",\"Torres\",\"Ramos\"]\n",
    "footballers.sort()\n",
    "print (footballers)\n",
    "footballers.insert(4,\"Haaland\")\n",
    "print(footballers)\n",
    "Last=footballers.pop()\n",
    "print(footballers)\n",
    "footballers.append(\"Ronaldo\")\n",
    "print(footballers)\n",
    "print(\"The number of times ronaldo appear is:\",footballers.count(\"Ronaldo\"))\n",
    "print(footballers.count)"
   ]
  },
  {
   "cell_type": "markdown",
   "id": "40040f06-d0a1-4767-bde9-1879b08e0a83",
   "metadata": {},
   "source": [
    "# Tuples\n",
    "\n",
    "## A tuple is an ordered, immutable sequence of items. Unlike lists, once a tuple is created, you cannot change, add, or remove its elements. Tuples are defined with parentheses () and are great for fixed collections of data."
   ]
  },
  {
   "cell_type": "markdown",
   "id": "d2270d06-ed96-40f4-8cc0-78347d061245",
   "metadata": {},
   "source": [
    "### Why use tuples?\n",
    "Safer: Prevent accidental changes\n",
    "\n",
    "Can be used as keys in dictionaries (unlike lists)\n",
    "\n",
    "Slightly faster than lists"
   ]
  },
  {
   "cell_type": "code",
   "execution_count": 25,
   "id": "d4576401-51a0-4418-8e78-66272268e52b",
   "metadata": {},
   "outputs": [
    {
     "name": "stdout",
     "output_type": "stream",
     "text": [
      "('Ronaldo', 'Messi', 'Neymar', 'Kroos')\n",
      "Messi\n",
      "Ronaldo Messi Neymar Kroos\n"
     ]
    }
   ],
   "source": [
    "# Creating a tuple of footballers\n",
    "footballers = (\"Ronaldo\", \"Messi\", \"Neymar\", \"Kroos\")\n",
    "\n",
    "print(footballers)       # ('Ronaldo', 'Messi', 'Neymar', 'Kroos')\n",
    "print(footballers[1])    # Messi\n",
    "\n",
    "# Trying to change an element will cause error:\n",
    "# footballers[2] = \"Mbappe\"   # TypeError: 'tuple' object does not support item assignment\n",
    "\n",
    "# You can unpack tuples:\n",
    "a, b, c, d = footballers\n",
    "print(a, b, c, d)  # Ronaldo Messi Neymar Kroos\n"
   ]
  },
  {
   "cell_type": "markdown",
   "id": "903cba74-998f-4d56-9836-fd5992d64d2a",
   "metadata": {},
   "source": [
    "# 2. Mapping Type (Dictionary)"
   ]
  },
  {
   "cell_type": "markdown",
   "id": "37430532-48dc-4e5f-92c7-5795c4c29a5d",
   "metadata": {},
   "source": [
    "## dict stores key-value pairs, like a real-world dictionary.\n",
    "\n",
    "## Keys must be unique and immutable.\n",
    "\n"
   ]
  },
  {
   "cell_type": "code",
   "execution_count": 1,
   "id": "4e695a16-30d3-40a7-8586-7ee156a67cd8",
   "metadata": {},
   "outputs": [
    {
     "name": "stdout",
     "output_type": "stream",
     "text": [
      "Manchan\n"
     ]
    }
   ],
   "source": [
    "my_dict = {\"name\": \"Manchan\", \"age\": 17}\n",
    "print(my_dict[\"name\"])  # Manchan\n",
    "my_dict[\"age\"] = 18     # Update value\n"
   ]
  },
  {
   "cell_type": "code",
   "execution_count": 4,
   "id": "52ed7e8c-8981-4e0f-80d8-e8517770d329",
   "metadata": {},
   "outputs": [
    {
     "name": "stdout",
     "output_type": "stream",
     "text": [
      "title : Onepiece\n",
      "author : Oda\n",
      "year : 1998\n"
     ]
    }
   ],
   "source": [
    "Book ={\"title\":\"Onepiece\",\n",
    "       \"author\":\"Oda\",\n",
    "       \"year\":\"1998\"}\n",
    "for key in Book:\n",
    "    print(key,\":\",Book[key])\n",
    "    "
   ]
  },
  {
   "cell_type": "code",
   "execution_count": 6,
   "id": "94d52644-de9c-45a7-a95a-28fa8e42a30b",
   "metadata": {},
   "outputs": [
    {
     "name": "stdout",
     "output_type": "stream",
     "text": [
      "name : Manchan\n",
      "age : 17\n",
      "subjects :\n",
      "- Math\n",
      "- science\n",
      "- English\n"
     ]
    }
   ],
   "source": [
    "student = {\n",
    "    \"name\": \"Manchan\",\n",
    "    \"age\": \"17\",\n",
    "    \"subjects\": [\"Math\", \"science\", \"English\"]\n",
    "}\n",
    "\n",
    "for key in student:\n",
    "    if key == \"subjects\":\n",
    "        print(key, \":\",)\n",
    "        for subject in student[key]:\n",
    "            print(\"-\", subject)\n",
    "    else:\n",
    "        print(key, \":\", student[key])\n"
   ]
  },
  {
   "cell_type": "markdown",
   "id": "08786ab7-fb7b-44c0-ad25-b8c281b1a7c7",
   "metadata": {},
   "source": [
    "# Set"
   ]
  },
  {
   "cell_type": "markdown",
   "id": "2abaf727-625f-4fc3-b99e-0b5fd28ef997",
   "metadata": {},
   "source": [
    "\n",
    "\n",
    "🔹 What is a Set?\n",
    "A set is an unordered collection of unique elements.\n",
    "\n",
    "It does not allow duplicates.\n",
    "\n",
    "Useful for checking membership, removing duplicates, and doing math-like operations (union, intersection)."
   ]
  },
  {
   "cell_type": "code",
   "execution_count": 7,
   "id": "0caaa70a-b28c-4478-880f-c0932bf8f145",
   "metadata": {},
   "outputs": [
    {
     "name": "stdout",
     "output_type": "stream",
     "text": [
      "{1, 2, 3}\n"
     ]
    }
   ],
   "source": [
    "my_set = {1, 2, 3, 2, 1}\n",
    "print(my_set)  # Output: {1, 2, 3} — duplicates removed automatically\n"
   ]
  },
  {
   "cell_type": "markdown",
   "id": "9e296581-d1ac-493d-9a9f-560af83f82d8",
   "metadata": {},
   "source": [
    "## Creating a set"
   ]
  },
  {
   "cell_type": "code",
   "execution_count": 8,
   "id": "91497863-4c6f-4454-a038-b6cbdc8a1cbc",
   "metadata": {},
   "outputs": [],
   "source": [
    "empty_set = set()       # Empty set (can't use {} because that's a dict)\n",
    "fruits = {\"apple\", \"banana\", \"orange\"}\n"
   ]
  },
  {
   "cell_type": "markdown",
   "id": "39565c65-c1e6-4778-98d8-f97e71870619",
   "metadata": {},
   "source": [
    "# Quick code demo"
   ]
  },
  {
   "cell_type": "code",
   "execution_count": 9,
   "id": "fa1f29c0-49aa-45a6-beab-4441a555a0d4",
   "metadata": {},
   "outputs": [
    {
     "name": "stdout",
     "output_type": "stream",
     "text": [
      "Union: {1, 2, 3, 4}\n",
      "Intersection: {2, 3}\n",
      "Difference: {1}\n"
     ]
    }
   ],
   "source": [
    "A = {1, 2, 3}\n",
    "B = {2, 3, 4}\n",
    "\n",
    "print(\"Union:\", A | B)           # {1, 2, 3, 4}\n",
    "print(\"Intersection:\", A & B)    # {2, 3}\n",
    "print(\"Difference:\", A - B)      # {1}\n"
   ]
  },
  {
   "cell_type": "markdown",
   "id": "3c1ec00a-e332-40c1-b7f4-c58b310b0f3d",
   "metadata": {},
   "source": [
    "# 1.Boolean Type"
   ]
  },
  {
   "cell_type": "markdown",
   "id": "602e7c05-19dc-450b-bc32-76715b50c360",
   "metadata": {},
   "source": [
    "Represents True or False values.\n",
    "\n",
    "Useful for conditions, flags, and controlling program flow."
   ]
  },
  {
   "cell_type": "code",
   "execution_count": 11,
   "id": "f000288a-ed52-4f01-a564-939e45b43a01",
   "metadata": {},
   "outputs": [
    {
     "name": "stdout",
     "output_type": "stream",
     "text": [
      "<class 'bool'>\n",
      "Take an umbrella!\n"
     ]
    }
   ],
   "source": [
    "is_raining = True\n",
    "is_sunny = False\n",
    "\n",
    "print(type(is_raining))  # <class 'bool'>\n",
    "\n",
    "# Using boolean in condition\n",
    "if is_raining:\n",
    "    print(\"Take an umbrella!\")\n",
    "else:\n",
    "    print(\"No umbrella needed.\")\n"
   ]
  },
  {
   "cell_type": "markdown",
   "id": "2c2317ee-212d-4700-93e8-43d310284085",
   "metadata": {},
   "source": [
    "# 2.Byte Type"
   ]
  },
  {
   "cell_type": "markdown",
   "id": "9471d1cc-5467-499f-a4f6-0538418a3e5e",
   "metadata": {},
   "source": [
    "Represents immutable sequences of bytes (numbers from 0 to 255).\n",
    "\n",
    "Useful when dealing with binary data like files, network packets, or encryption."
   ]
  },
  {
   "cell_type": "code",
   "execution_count": 13,
   "id": "780d1709-861a-462c-9c26-25ad8fbb79f7",
   "metadata": {},
   "outputs": [
    {
     "name": "stdout",
     "output_type": "stream",
     "text": [
      "b'hello'\n",
      "<class 'bytes'>\n",
      "104\n",
      "b'hello'\n",
      "hello\n"
     ]
    }
   ],
   "source": [
    "# Creating a bytes object\n",
    "b = b\"hello\"\n",
    "print(b)                # b'hello'\n",
    "print(type(b))          # <class 'bytes'>\n",
    "\n",
    "# Accessing bytes (returns integer)\n",
    "print(b[0])             # 104 (ASCII for 'h')\n",
    "\n",
    "# Convert string to bytes\n",
    "s = \"hello\"\n",
    "b2 = s.encode('utf-8')  # Convert string to bytes\n",
    "print(b2)               # b'hello'\n",
    "\n",
    "# Convert bytes back to string\n",
    "s2 = b2.decode('utf-8')\n",
    "print(s2)               # hello\n"
   ]
  },
  {
   "cell_type": "code",
   "execution_count": null,
   "id": "0ec9a652-e965-4c75-90e0-6cd6a6e30b8a",
   "metadata": {},
   "outputs": [],
   "source": []
  }
 ],
 "metadata": {
  "kernelspec": {
   "display_name": "Python 3 (ipykernel)",
   "language": "python",
   "name": "python3"
  },
  "language_info": {
   "codemirror_mode": {
    "name": "ipython",
    "version": 3
   },
   "file_extension": ".py",
   "mimetype": "text/x-python",
   "name": "python",
   "nbconvert_exporter": "python",
   "pygments_lexer": "ipython3",
   "version": "3.13.5"
  }
 },
 "nbformat": 4,
 "nbformat_minor": 5
}
