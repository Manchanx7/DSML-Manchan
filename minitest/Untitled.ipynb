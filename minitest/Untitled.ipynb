{
 "cells": [
  {
   "cell_type": "markdown",
   "id": "e6236ad2-b53b-40cc-85fd-f9864a62e130",
   "metadata": {},
   "source": [
    "# Q1\n",
    "A funtion that takes list of numbers and returns only even numbers using a list comprehension\n"
   ]
  },
  {
   "cell_type": "code",
   "execution_count": 1,
   "id": "84bbe159-a126-4eb8-9f9b-4898ecfa2cfa",
   "metadata": {},
   "outputs": [
    {
     "name": "stdout",
     "output_type": "stream",
     "text": [
      "[2, 4, 6]\n"
     ]
    }
   ],
   "source": [
    "def filter_even_numbers(nums):\n",
    "    return [num for num in nums if num % 2 == 0]\n",
    "\n",
    "print(filter_even_numbers([1, 2, 3, 4, 5, 6])) \n"
   ]
  },
  {
   "cell_type": "markdown",
   "id": "09626b35-3374-4c89-bcee-e782f029f4c2",
   "metadata": {},
   "source": [
    "# Q2\n",
    "A function that takes a string and returns a dictionary with counts of each vowel(a,e,i,o,u)."
   ]
  },
  {
   "cell_type": "code",
   "execution_count": 2,
   "id": "740fc46e-7dcd-49e3-9a24-3a4ff367bfd8",
   "metadata": {},
   "outputs": [
    {
     "name": "stdout",
     "output_type": "stream",
     "text": [
      "{'a': 3, 'e': 0, 'i': 4, 'o': 0, 'u': 0}\n"
     ]
    }
   ],
   "source": [
    "def count_vowels(sentence):\n",
    "    vowels = 'aeiou'\n",
    "    sentence = sentence.lower()\n",
    "    return {v: sentence.count(v) for v in vowels}\n",
    "print(count_vowels(\"Skill Shikshya is amazing\"))  \n",
    "\n"
   ]
  },
  {
   "cell_type": "markdown",
   "id": "5f909b90-5348-40e3-b83b-c9e27eb223cd",
   "metadata": {},
   "source": [
    "# Q3\n",
    "A class with a attribute balance,method(deposit),method(withdraw).create a account deposit 500 and withdraw 800"
   ]
  },
  {
   "cell_type": "code",
   "execution_count": 3,
   "id": "9409ba35-2084-433c-ac3e-65480625840e",
   "metadata": {},
   "outputs": [
    {
     "name": "stdout",
     "output_type": "stream",
     "text": [
      "Error: Insufficient funds.\n"
     ]
    }
   ],
   "source": [
    "class BankAccount:\n",
    "    def __init__(self):\n",
    "        self.balance = 0 #initial balance 0 banaidinxa\n",
    "\n",
    "    def deposit(self, amount): #amount vanney argument linxa\n",
    "        self.balance += amount #increases the amount\n",
    "\n",
    "    def withdraw(self, amount):\n",
    "        if amount > self.balance:#withdraw amount balance vanda thorai xa ki dherai xa check garxa\n",
    "            raise ValueError(\"Insufficient funds.\")#balance vanda withdraw amount dherai xa vani eroor msg pop hunxa\n",
    "        self.balance -= amount #withdraw garey amount decrease garxa balance sanga\n",
    "\n",
    "account = BankAccount()\n",
    "account.deposit(500)\n",
    "\n",
    "try:\n",
    "    account.withdraw(800)\n",
    "except ValueError as e:\n",
    "    print(f\"Error: {e}\")# withdraw amount balance vanda dherai xa vani yo msg auxa\n"
   ]
  },
  {
   "cell_type": "markdown",
   "id": "667eda7c-dbbe-47bc-9a67-3baa30d731ae",
   "metadata": {},
   "source": [
    "# Q4\n",
    "A funtion that sums all positional arguments,if a keyword argument \"double=True\" is passed,it should return double the sum"
   ]
  },
  {
   "cell_type": "code",
   "execution_count": 4,
   "id": "6d1f1da0-028a-4ced-837f-debd73baca24",
   "metadata": {},
   "outputs": [
    {
     "name": "stdout",
     "output_type": "stream",
     "text": [
      "10\n",
      "12\n"
     ]
    }
   ],
   "source": [
    "def custom_sum(*args, **kwargs):\n",
    "    total = sum(args)\n",
    "    #double keyword argument vayera pass hunxa ki nai check garxa\n",
    "    if kwargs.get('double', False):\n",
    "        return total * 2\n",
    "    return total\n",
    "\n",
    "print(custom_sum(1, 2, 3, 4))  \n",
    "print(custom_sum(1, 2, 3, double=True)) \n"
   ]
  },
  {
   "cell_type": "code",
   "execution_count": null,
   "id": "fa39e0c2-a603-4d1c-852b-9fafcd4169ec",
   "metadata": {},
   "outputs": [],
   "source": []
  }
 ],
 "metadata": {
  "kernelspec": {
   "display_name": "Python 3 (ipykernel)",
   "language": "python",
   "name": "python3"
  },
  "language_info": {
   "codemirror_mode": {
    "name": "ipython",
    "version": 3
   },
   "file_extension": ".py",
   "mimetype": "text/x-python",
   "name": "python",
   "nbconvert_exporter": "python",
   "pygments_lexer": "ipython3",
   "version": "3.13.5"
  }
 },
 "nbformat": 4,
 "nbformat_minor": 5
}
