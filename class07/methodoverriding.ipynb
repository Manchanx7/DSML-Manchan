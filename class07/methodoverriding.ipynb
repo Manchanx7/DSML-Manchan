{
 "cells": [
  {
   "cell_type": "markdown",
   "id": "2f6e3aa3-54cd-4403-aa6e-6fe5bfb86892",
   "metadata": {},
   "source": [
    "# Method Overriding"
   ]
  },
  {
   "cell_type": "markdown",
   "id": "14029f0e-36fc-4b08-b05f-ddfa1ab21a90",
   "metadata": {},
   "source": [
    "## Method overriding is a feature in object-oriented programming where a subclass provides a specific implementation of a method that is already defined in its superclass.\n",
    "## The overridden method in the subclass has the same name, return type, and parameters as the method in the parent class.\n",
    "    "
   ]
  },
  {
   "cell_type": "code",
   "execution_count": 6,
   "id": "87d6c2be-e085-4e2e-83f1-8102c526ccbd",
   "metadata": {},
   "outputs": [
    {
     "ename": "IndentationError",
     "evalue": "unindent does not match any outer indentation level (<string>, line 5)",
     "output_type": "error",
     "traceback": [
      "  \u001b[36mFile \u001b[39m\u001b[32m<string>:5\u001b[39m\n\u001b[31m    \u001b[39m\u001b[31mclass Child(Parent):\u001b[39m\n                        ^\n\u001b[31mIndentationError\u001b[39m\u001b[31m:\u001b[39m unindent does not match any outer indentation level\n"
     ]
    }
   ],
   "source": [
    "class Parent:\n",
    "    def say_hello(self):\n",
    "        print(\"Hello from Parent\")\n",
    "        return 0\n",
    " class Child(Parent):\n",
    "def say_hello(self):\n",
    "    res=super().say_hello()\n",
    "    print(res)\n",
    "    print(\"Hello from child\")"
   ]
  },
  {
   "cell_type": "code",
   "execution_count": null,
   "id": "26c5c4c4-1dc3-43f3-8cf0-056a60d5b848",
   "metadata": {},
   "outputs": [],
   "source": []
  }
 ],
 "metadata": {
  "kernelspec": {
   "display_name": "Python 3 (ipykernel)",
   "language": "python",
   "name": "python3"
  },
  "language_info": {
   "codemirror_mode": {
    "name": "ipython",
    "version": 3
   },
   "file_extension": ".py",
   "mimetype": "text/x-python",
   "name": "python",
   "nbconvert_exporter": "python",
   "pygments_lexer": "ipython3",
   "version": "3.13.5"
  }
 },
 "nbformat": 4,
 "nbformat_minor": 5
}
