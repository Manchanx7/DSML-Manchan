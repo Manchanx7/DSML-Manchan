{
 "cells": [
  {
   "cell_type": "markdown",
   "id": "55ac88ca-d927-4b2d-9ecb-d82f61b43284",
   "metadata": {},
   "source": [
    "# Abstraction"
   ]
  },
  {
   "cell_type": "markdown",
   "id": "5839da4d-2474-463e-bce7-a450a36a8611",
   "metadata": {},
   "source": [
    "### In Python, abstraction is used to hide internal details and show only the important functionality to the user."
   ]
  },
  {
   "cell_type": "code",
   "execution_count": 1,
   "id": "37d35fb1-36cd-465c-ace6-b5bec4535292",
   "metadata": {},
   "outputs": [],
   "source": [
    "from abc import ABC, abstractmethod\n",
    "\n",
    "class shape(ABC):\n",
    "\n",
    "    @abstractmethod\n",
    "    def area(slef):\n",
    "        pass\n",
    "    def volume(self):\n",
    "        return\"Not applicable for givven shape\""
   ]
  },
  {
   "cell_type": "code",
   "execution_count": 2,
   "id": "c04626e8-7559-4e5c-8dab-b7fa9e6ba8df",
   "metadata": {},
   "outputs": [
    {
     "ename": "TypeError",
     "evalue": "Can't instantiate abstract class shape without an implementation for abstract method 'area'",
     "output_type": "error",
     "traceback": [
      "\u001b[31m---------------------------------------------------------------------------\u001b[39m",
      "\u001b[31mTypeError\u001b[39m                                 Traceback (most recent call last)",
      "\u001b[36mCell\u001b[39m\u001b[36m \u001b[39m\u001b[32mIn[2]\u001b[39m\u001b[32m, line 1\u001b[39m\n\u001b[32m----> \u001b[39m\u001b[32m1\u001b[39m shape=\u001b[43mshape\u001b[49m\u001b[43m(\u001b[49m\u001b[43m)\u001b[49m\n",
      "\u001b[31mTypeError\u001b[39m: Can't instantiate abstract class shape without an implementation for abstract method 'area'"
     ]
    }
   ],
   "source": [
    "shape=shape()"
   ]
  },
  {
   "cell_type": "markdown",
   "id": "bdb0db05-4ff9-4902-b4ac-891f0afd1467",
   "metadata": {},
   "source": [
    "We cannot initialize the abstract class"
   ]
  },
  {
   "cell_type": "markdown",
   "id": "be71199c-7241-410d-a01c-72341a1a3e1a",
   "metadata": {},
   "source": [
    "In the above example an abstract class called shape.It has abstract methods, area(),which are used to define the interface of the class.Any subclasses must implement these methods."
   ]
  },
  {
   "cell_type": "code",
   "execution_count": 13,
   "id": "9abc2dfa-c97f-4c1a-8f29-b4b0ec6a4b23",
   "metadata": {},
   "outputs": [
    {
     "name": "stdout",
     "output_type": "stream",
     "text": [
      "Area of rectangle: 18\n"
     ]
    }
   ],
   "source": [
    "\n",
    "class Shape(ABC):\n",
    "    @abstractmethod\n",
    "    def area(self):\n",
    "        pass\n",
    "\n",
    "class Rectangle(Shape):\n",
    "    def __init__(self, width, length):  \n",
    "        self.w = width\n",
    "        self.l = length\n",
    "\n",
    "    def area(self):  \n",
    "        return self.w * self.l\n",
    "\n",
    "rect = Rectangle(2, 9)\n",
    "print(\"Area of rectangle:\", rect.area())\n"
   ]
  },
  {
   "cell_type": "code",
   "execution_count": 14,
   "id": "0bea4be0-c0e1-482e-9de0-d1ba8e03f868",
   "metadata": {},
   "outputs": [],
   "source": [
    "rect = Rectangle(2,9)"
   ]
  },
  {
   "cell_type": "code",
   "execution_count": 15,
   "id": "d16a2285-e160-4d75-8308-efdd438dd5e5",
   "metadata": {},
   "outputs": [
    {
     "data": {
      "text/plain": [
       "18"
      ]
     },
     "execution_count": 15,
     "metadata": {},
     "output_type": "execute_result"
    }
   ],
   "source": [
    "rect.area()"
   ]
  },
  {
   "cell_type": "code",
   "execution_count": 19,
   "id": "ccb6e2bd-d4c3-4b34-a7fc-df271e28da02",
   "metadata": {},
   "outputs": [
    {
     "name": "stdout",
     "output_type": "stream",
     "text": [
      "Area (base): 20\n"
     ]
    }
   ],
   "source": [
    "from abc import ABC, abstractmethod \n",
    "class Shape(ABC):\n",
    "    @abstractmethod\n",
    "    def area(self):\n",
    "        pass\n",
    "\n",
    "class Cuboid(Shape):\n",
    "    def __init__(self, width, length, height):\n",
    "        self.w = width\n",
    "        self.l = length\n",
    "        self.h = height\n",
    "\n",
    "    def area(self):\n",
    "    \n",
    "        return self.w * self.l\n",
    "c = Cuboid(4, 5, 6)\n",
    "print(\"Area (base):\", c.area())\n",
    "\n"
   ]
  },
  {
   "cell_type": "code",
   "execution_count": null,
   "id": "d193d033-2713-47ca-ad69-6f84bd38462a",
   "metadata": {},
   "outputs": [],
   "source": []
  }
 ],
 "metadata": {
  "kernelspec": {
   "display_name": "Python 3 (ipykernel)",
   "language": "python",
   "name": "python3"
  },
  "language_info": {
   "codemirror_mode": {
    "name": "ipython",
    "version": 3
   },
   "file_extension": ".py",
   "mimetype": "text/x-python",
   "name": "python",
   "nbconvert_exporter": "python",
   "pygments_lexer": "ipython3",
   "version": "3.13.5"
  }
 },
 "nbformat": 4,
 "nbformat_minor": 5
}
