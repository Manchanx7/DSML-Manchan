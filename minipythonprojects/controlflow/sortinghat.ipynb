{
 "cells": [
  {
   "cell_type": "markdown",
   "id": "2aac06a0-0f89-4a57-a2af-4f7dfe04445f",
   "metadata": {},
   "source": [
    "## The following question were provided by codedex."
   ]
  },
  {
   "cell_type": "markdown",
   "id": "188e415d-3460-4142-a3b3-07832bb8ecbc",
   "metadata": {},
   "source": [
    "# Sorting Hat"
   ]
  },
  {
   "cell_type": "markdown",
   "id": "d521254f-c98d-4423-b0c5-70d873dbefc5",
   "metadata": {},
   "source": [
    "The Sorting Hat is a magical talking hat at Hogwarts School of Witchcraft and Wizardry. The hat decides which of the four \"Houses\" each first-year student goes to:\n",
    "\n",
    "🦁 Gryffindor\n",
    "🦅 Ravenclaw\n",
    "🦡 Hufflepuff\n",
    "🐍 Slytherin\n",
    "\n",
    "\n",
    "Write a program that asks the user some questions with the int() and input() functions:\n",
    "\n",
    "Q1) Do you like Dawn or Dusk?\n",
    "    1) Dawn\n",
    "    2) Dusk\n",
    "\n",
    "If answer is equal to 1, Gryffindor and Ravenclaw both get a +1.\n",
    "Else if answer is equal to 2, Hufflepuff and Slytherin both get a +1.\n",
    "Else, output the message \"Wrong input.\"\n",
    "Q2) When I’m dead, I want people to remember me as:\n",
    "    1) The Good\n",
    "    2) The Great\n",
    "    3) The Wise\n",
    "    4) The Bold\n",
    "\n",
    "If the answer is 1, Hufflepuff +2.\n",
    "Else if answer is 2, Slytherin +2.\n",
    "Else if answer is 3, Ravenclaw +2.\n",
    "Else if answer is 4, Gryffindor +2.\n",
    "Else, output the message \"Wrong input.\"\n",
    "Q3) Which kind of instrument most pleases your ear?\n",
    "    1) The violin\n",
    "    2) The trumpet\n",
    "    3) The piano\n",
    "    4) The drum\n",
    "\n",
    "If the answer is 1, Slytherin +4.\n",
    "Else if the answer is 2, Hufflepuff +4.\n",
    "Else if the answer is 3, Ravenclaw +4.\n",
    "Else if the answer is 4, Gryffindor +4.\n",
    "Else, output \"Wrong input.\"\n",
    "Lastly, print out the score for each house.\n",
    "\n",
    "Bonus: If you want to go further, see if you can figure out how to print out the house with the most points!"
   ]
  },
  {
   "cell_type": "markdown",
   "id": "52c5dde3-dd3a-4fa9-a41b-8762140dd8b9",
   "metadata": {},
   "source": [
    "# Initialize house scores\n",
    "gryffindor = 0\n",
    "ravenclaw = 0\n",
    "hufflepuff = 0\n",
    "slytherin = 0\n",
    "\n",
    "# Q1\n",
    "print(\"Q1) Do you like Dawn or Dusk?\\n1) Dawn\\n2) Dusk\")\n",
    "answer1 = int(input(\"Enter your answer (1 or 2): \"))\n",
    "\n",
    "if answer1 == 1:\n",
    "    gryffindor += 1\n",
    "    ravenclaw += 1\n",
    "elif answer1 == 2:\n",
    "    hufflepuff += 1\n",
    "    slytherin += 1\n",
    "else:\n",
    "    print(\"Wrong input.\")\n",
    "\n",
    "# Q2\n",
    "print(\"\\nQ2) When I’m dead, I want people to remember me as:\\n1) The Good\\n2) The Great\\n3) The Wise\\n4) The Bold\")\n",
    "answer2 = int(input(\"Enter your answer (1–4): \"))\n",
    "\n",
    "if answer2 == 1:\n",
    "    hufflepuff += 2\n",
    "elif answer2 == 2:\n",
    "    slytherin += 2\n",
    "elif answer2 == 3:\n",
    "    ravenclaw += 2\n",
    "elif answer2 == 4:\n",
    "    gryffindor += 2\n",
    "else:\n",
    "    print(\"Wrong input.\")\n",
    "\n",
    "# Q3\n",
    "print(\"\\nQ3) Which kind of instrument most pleases your ear?\\n1) The violin\\n2) The trumpet\\n3) The piano\\n4) The drum\")\n",
    "answer3 = int(input(\"Enter your answer (1–4): \"))\n",
    "\n",
    "if answer3 == 1:\n",
    "    slytherin += 4\n",
    "elif answer3 == 2:\n",
    "    hufflepuff += 4\n",
    "elif answer3 == 3:\n",
    "    ravenclaw += 4\n",
    "elif answer3 == 4:\n",
    "    gryffindor += 4\n",
    "else:\n",
    "    print(\"Wrong input.\")\n",
    "\n",
    "# Display final scores\n",
    "print(\"\\n🏆 Final House Scores:\")\n",
    "print(\"Gryffindor:\", gryffindor)\n",
    "print(\"Ravenclaw:\", ravenclaw)\n",
    "print(\"Hufflepuff:\", hufflepuff)\n",
    "print(\"Slytherin:\", slytherin)\n",
    "\n",
    "# Bonus: Find the house with the most points\n",
    "max_score = max(gryffindor, ravenclaw, hufflepuff, slytherin)\n",
    "\n",
    "print(\"\\n🎓 The Sorting Hat has decided...\")\n",
    "if gryffindor == max_score:\n",
    "    print(\"You belong to 🦁 Gryffindor!\")\n",
    "elif ravenclaw == max_score:\n",
    "    print(\"You belong to 🦅 Ravenclaw!\")\n",
    "elif hufflepuff == max_score:\n",
    "    print(\"You belong to 🦡 Hufflepuff!\")\n",
    "elif slytherin == max_score:\n",
    "    print(\"You belong to 🐍 Slytherin!\")\n",
    "\n"
   ]
  },
  {
   "cell_type": "code",
   "execution_count": 1,
   "id": "78095259-c459-41a0-955a-90abe825b1e4",
   "metadata": {},
   "outputs": [
    {
     "name": "stdout",
     "output_type": "stream",
     "text": [
      "Q1) Do you like Dawn or Dusk?\n",
      "1) Dawn\n",
      "2) Dusk\n"
     ]
    },
    {
     "name": "stdin",
     "output_type": "stream",
     "text": [
      "Enter your answer (1 or 2):  2\n"
     ]
    },
    {
     "name": "stdout",
     "output_type": "stream",
     "text": [
      "\n",
      "Q2) When I’m dead, I want people to remember me as:\n",
      "1) The Good\n",
      "2) The Great\n",
      "3) The Wise\n",
      "4) The Bold\n"
     ]
    },
    {
     "name": "stdin",
     "output_type": "stream",
     "text": [
      "Enter your answer (1–4):  1\n"
     ]
    },
    {
     "name": "stdout",
     "output_type": "stream",
     "text": [
      "\n",
      "Q3) Which kind of instrument most pleases your ear?\n",
      "1) The violin\n",
      "2) The trumpet\n",
      "3) The piano\n",
      "4) The drum\n"
     ]
    },
    {
     "name": "stdin",
     "output_type": "stream",
     "text": [
      "Enter your answer (1–4):  2\n"
     ]
    },
    {
     "name": "stdout",
     "output_type": "stream",
     "text": [
      "\n",
      "🏆 Final House Scores:\n",
      "Gryffindor: 0\n",
      "Ravenclaw: 0\n",
      "Hufflepuff: 7\n",
      "Slytherin: 1\n",
      "\n",
      "🎓 The Sorting Hat has decided...\n",
      "You belong to 🦡 Hufflepuff!\n"
     ]
    }
   ],
   "source": [
    "# Initialize house scores\n",
    "gryffindor = 0\n",
    "ravenclaw = 0\n",
    "hufflepuff = 0\n",
    "slytherin = 0\n",
    "\n",
    "# Q1\n",
    "print(\"Q1) Do you like Dawn or Dusk?\\n1) Dawn\\n2) Dusk\")\n",
    "answer1 = int(input(\"Enter your answer (1 or 2): \"))\n",
    "\n",
    "if answer1 == 1:\n",
    "    gryffindor += 1\n",
    "    ravenclaw += 1\n",
    "elif answer1 == 2:\n",
    "    hufflepuff += 1\n",
    "    slytherin += 1\n",
    "else:\n",
    "    print(\"Wrong input.\")\n",
    "\n",
    "# Q2\n",
    "print(\"\\nQ2) When I’m dead, I want people to remember me as:\\n1) The Good\\n2) The Great\\n3) The Wise\\n4) The Bold\")\n",
    "answer2 = int(input(\"Enter your answer (1–4): \"))\n",
    "\n",
    "if answer2 == 1:\n",
    "    hufflepuff += 2\n",
    "elif answer2 == 2:\n",
    "    slytherin += 2\n",
    "elif answer2 == 3:\n",
    "    ravenclaw += 2\n",
    "elif answer2 == 4:\n",
    "    gryffindor += 2\n",
    "else:\n",
    "    print(\"Wrong input.\")\n",
    "\n",
    "# Q3\n",
    "print(\"\\nQ3) Which kind of instrument most pleases your ear?\\n1) The violin\\n2) The trumpet\\n3) The piano\\n4) The drum\")\n",
    "answer3 = int(input(\"Enter your answer (1–4): \"))\n",
    "\n",
    "if answer3 == 1:\n",
    "    slytherin += 4\n",
    "elif answer3 == 2:\n",
    "    hufflepuff += 4\n",
    "elif answer3 == 3:\n",
    "    ravenclaw += 4\n",
    "elif answer3 == 4:\n",
    "    gryffindor += 4\n",
    "else:\n",
    "    print(\"Wrong input.\")\n",
    "\n",
    "# Display final scores\n",
    "print(\"\\n🏆 Final House Scores:\")\n",
    "print(\"Gryffindor:\", gryffindor)\n",
    "print(\"Ravenclaw:\", ravenclaw)\n",
    "print(\"Hufflepuff:\", hufflepuff)\n",
    "print(\"Slytherin:\", slytherin)\n",
    "\n",
    "# Bonus: Find the house with the most points\n",
    "max_score = max(gryffindor, ravenclaw, hufflepuff, slytherin)\n",
    "\n",
    "print(\"\\n🎓 The Sorting Hat has decided...\")\n",
    "if gryffindor == max_score:\n",
    "    print(\"You belong to 🦁 Gryffindor!\")\n",
    "elif ravenclaw == max_score:\n",
    "    print(\"You belong to 🦅 Ravenclaw!\")\n",
    "elif hufflepuff == max_score:\n",
    "    print(\"You belong to 🦡 Hufflepuff!\")\n",
    "elif slytherin == max_score:\n",
    "    print(\"You belong to 🐍 Slytherin!\")\n",
    "\n"
   ]
  },
  {
   "cell_type": "code",
   "execution_count": null,
   "id": "8aa3b231-0a20-49e9-9c30-8acd6329d62b",
   "metadata": {},
   "outputs": [],
   "source": []
  }
 ],
 "metadata": {
  "kernelspec": {
   "display_name": "Python 3 (ipykernel)",
   "language": "python",
   "name": "python3"
  },
  "language_info": {
   "codemirror_mode": {
    "name": "ipython",
    "version": 3
   },
   "file_extension": ".py",
   "mimetype": "text/x-python",
   "name": "python",
   "nbconvert_exporter": "python",
   "pygments_lexer": "ipython3",
   "version": "3.13.5"
  }
 },
 "nbformat": 4,
 "nbformat_minor": 5
}
