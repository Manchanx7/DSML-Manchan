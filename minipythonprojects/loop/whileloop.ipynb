{
 "cells": [
  {
   "cell_type": "markdown",
   "id": "8575bef4-61f3-4f30-9717-0c42768b82e4",
   "metadata": {},
   "source": [
    "# Guess the number"
   ]
  },
  {
   "cell_type": "code",
   "execution_count": 1,
   "id": "0a068a40-0e80-4dae-b57e-4ab7405ba579",
   "metadata": {},
   "outputs": [
    {
     "name": "stdin",
     "output_type": "stream",
     "text": [
      "Guess the number:  1\n"
     ]
    },
    {
     "name": "stdout",
     "output_type": "stream",
     "text": [
      "Wrong guess.\n"
     ]
    },
    {
     "name": "stdin",
     "output_type": "stream",
     "text": [
      "Guess the number:  3\n"
     ]
    },
    {
     "name": "stdout",
     "output_type": "stream",
     "text": [
      "Wrong guess.\n"
     ]
    },
    {
     "name": "stdin",
     "output_type": "stream",
     "text": [
      "Guess the number:  4\n"
     ]
    },
    {
     "name": "stdout",
     "output_type": "stream",
     "text": [
      "Wrong guess.\n",
      "Sorry, number of tries are over.\n"
     ]
    }
   ],
   "source": [
    "secret_number = 6\n",
    "guess = None\n",
    "tries = 0\n",
    "max_tries = 3\n",
    "\n",
    "while tries < max_tries:\n",
    "    guess = int(input(\"Guess the number: \"))\n",
    "    tries += 1\n",
    "    \n",
    "    if guess == secret_number:\n",
    "        print(\"You got it!\")\n",
    "        break\n",
    "    else:\n",
    "        print(\"Wrong guess.\")\n",
    "\n",
    "if guess != secret_number:\n",
    "    print(\"Sorry, number of tries are over.\")\n"
   ]
  },
  {
   "cell_type": "code",
   "execution_count": null,
   "id": "98f0e3c1-8690-4b6f-95a2-5538e67f82b4",
   "metadata": {},
   "outputs": [],
   "source": []
  }
 ],
 "metadata": {
  "kernelspec": {
   "display_name": "Python 3 (ipykernel)",
   "language": "python",
   "name": "python3"
  },
  "language_info": {
   "codemirror_mode": {
    "name": "ipython",
    "version": 3
   },
   "file_extension": ".py",
   "mimetype": "text/x-python",
   "name": "python",
   "nbconvert_exporter": "python",
   "pygments_lexer": "ipython3",
   "version": "3.13.5"
  }
 },
 "nbformat": 4,
 "nbformat_minor": 5
}
